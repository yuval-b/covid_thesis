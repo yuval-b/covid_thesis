{
 "cells": [
  {
   "cell_type": "markdown",
   "metadata": {},
   "source": [
    "## Stochasticising"
   ]
  },
  {
   "cell_type": "markdown",
   "metadata": {},
   "source": [
    "This notebook converts each current adjacency matrix into a stochastic transition matrix by converting all rows to probabilities (ie normalising them to 1). We then raise it to the power of 7 – which is equivalent to saying you can move one town per day, and then convert the probabilities back to relative flows and save it as new adjacency matrices (again setting the diagonals as equal to 0), writing them into the folder ‘stochasticised’. It raises a few concerns though; the value of C is super sensitive when trying to run the discrete SEIR model using it, and should we really be setting the diagonal as 0?!"
   ]
  },
  {
   "cell_type": "code",
   "execution_count": 5,
   "metadata": {},
   "outputs": [],
   "source": [
    "#Import necessary libraries\n",
    "import pandas as pd\n",
    "import numpy as np\n",
    "import os"
   ]
  },
  {
   "cell_type": "code",
   "execution_count": 6,
   "metadata": {},
   "outputs": [],
   "source": [
    "# Read in the kalman filtered adjacency matrices\n",
    "kl = sorted(os.listdir(\"/Volumes/HardDrive/New_Workflow/kalman_all_44/\"))\n",
    "kal_flow = []\n",
    "for item in kl:\n",
    "    if '._' not in item:\n",
    "        kal_flow.append(item)\n",
    "        \n",
    "d = {}\n",
    "for i in range(len(kal_flow)):\n",
    "    d[str(i)] = pd.read_csv(\"/Volumes/HardDrive/New_Workflow/kalman_all_44/\"+kal_flow[i], header = None)"
   ]
  },
  {
   "cell_type": "markdown",
   "metadata": {},
   "source": [
    "## Further Adjustments"
   ]
  },
  {
   "cell_type": "code",
   "execution_count": 7,
   "metadata": {},
   "outputs": [],
   "source": [
    "def stoch(dfs):\n",
    "    \n",
    "    df = dfs.copy()\n",
    "    rowsums = []\n",
    "    \n",
    "    # Get the sum of each row, then divide each entry by that sum (normalise)\n",
    "    for index, row in df.iterrows():\n",
    "        a = sum(row)\n",
    "        rowsums.append(a)\n",
    "        if a > 0:\n",
    "            for i in df.columns:\n",
    "                df.iloc[index, i] = df.iloc[index, i]/a\n",
    "    \n",
    "    tot_df = df.copy()/7\n",
    "    temp_df = df.copy()\n",
    "    # Raise the transition matrix to the power of 7\n",
    "    for i in range(6):\n",
    "        temp_df = np.matmul(temp_df,df)\n",
    "        tot_df += temp_df/7\n",
    "    \n",
    "    selfloop = []\n",
    "    # Set diagonal to 0  \n",
    "    for i in range(len(tot_df.columns)):\n",
    "        selfloop.append(tot_df.iloc[i,i])\n",
    "        tot_df.iloc[i,i]=0\n",
    "    \n",
    "    # Convert it back to relative flows (distribute diagonals evenly throughout the row)\n",
    "    for index, row in tot_df.iterrows():\n",
    "        for i in tot_df.columns:\n",
    "            tot_df.iloc[index, i] = tot_df.iloc[index, i]/(1-selfloop[index])*rowsums[index]\n",
    "        \n",
    "    return tot_df"
   ]
  },
  {
   "cell_type": "code",
   "execution_count": 8,
   "metadata": {},
   "outputs": [
    {
     "name": "stdout",
     "output_type": "stream",
     "text": [
      "0\n",
      "1\n",
      "2\n",
      "3\n",
      "4\n",
      "5\n",
      "6\n",
      "7\n",
      "8\n",
      "9\n",
      "10\n",
      "11\n",
      "12\n",
      "13\n",
      "14\n",
      "15\n",
      "16\n",
      "17\n",
      "18\n",
      "19\n",
      "20\n",
      "21\n",
      "22\n",
      "23\n",
      "24\n",
      "25\n",
      "26\n",
      "27\n",
      "28\n",
      "29\n",
      "30\n",
      "31\n",
      "32\n",
      "33\n",
      "34\n",
      "35\n",
      "36\n",
      "37\n",
      "38\n",
      "39\n",
      "40\n",
      "41\n",
      "42\n",
      "43\n",
      "44\n",
      "45\n",
      "46\n",
      "47\n",
      "48\n",
      "49\n",
      "50\n",
      "51\n",
      "52\n",
      "53\n",
      "54\n",
      "55\n",
      "56\n",
      "57\n",
      "58\n",
      "59\n",
      "60\n",
      "61\n",
      "62\n",
      "63\n",
      "64\n",
      "65\n",
      "66\n",
      "67\n",
      "68\n",
      "69\n",
      "70\n",
      "71\n",
      "72\n",
      "73\n",
      "74\n",
      "75\n",
      "76\n",
      "77\n",
      "78\n",
      "79\n",
      "80\n",
      "81\n",
      "82\n",
      "83\n",
      "84\n",
      "85\n",
      "86\n",
      "87\n",
      "88\n",
      "89\n",
      "90\n",
      "91\n",
      "92\n",
      "93\n",
      "94\n",
      "95\n",
      "96\n"
     ]
    }
   ],
   "source": [
    "# Run the function over each dataframe and write it to a folder\n",
    "for i in range(len(kal_flow)):\n",
    "    print(i)\n",
    "    temp = stoch(d[str(i)])\n",
    "    temp.to_csv(\"/Volumes/HardDrive/New_Workflow/stochastic_44/\"+kal_flow[i],index = False, header = False)"
   ]
  },
  {
   "cell_type": "markdown",
   "metadata": {},
   "source": [
    "# Checks"
   ]
  },
  {
   "cell_type": "code",
   "execution_count": 12,
   "metadata": {},
   "outputs": [],
   "source": [
    "rowsums = []\n",
    "for index, row in temp.iterrows():\n",
    "    a = sum(row)\n",
    "    rowsums.append(a)"
   ]
  },
  {
   "cell_type": "code",
   "execution_count": 13,
   "metadata": {},
   "outputs": [
    {
     "ename": "NameError",
     "evalue": "name 'ro' is not defined",
     "output_type": "error",
     "traceback": [
      "\u001b[0;31m---------------------------------------------------------------------------\u001b[0m",
      "\u001b[0;31mNameError\u001b[0m                                 Traceback (most recent call last)",
      "\u001b[0;32m/var/folders/ys/xd1k0y7j01xghctdv8ktdd900000gn/T/ipykernel_3551/1510217235.py\u001b[0m in \u001b[0;36m<module>\u001b[0;34m\u001b[0m\n\u001b[0;32m----> 1\u001b[0;31m \u001b[0mrowsums\u001b[0m \u001b[0;34m==\u001b[0m \u001b[0mro\u001b[0m\u001b[0;34m\u001b[0m\u001b[0;34m\u001b[0m\u001b[0m\n\u001b[0m",
      "\u001b[0;31mNameError\u001b[0m: name 'ro' is not defined"
     ]
    }
   ],
   "source": [
    "rowsums == ro"
   ]
  },
  {
   "cell_type": "code",
   "execution_count": 160,
   "metadata": {},
   "outputs": [
    {
     "name": "stdout",
     "output_type": "stream",
     "text": [
      "0.00012811167991790353 0.00012811167991790353 0.0\n",
      "2.66345062903406e-06 2.66345062903406e-06 0.0\n",
      "2.983190018081857e-06 2.9831900180818573e-06 -4.235164736271502e-22\n",
      "4.7084075283894344e-07 4.708407528389434e-07 5.293955920339377e-23\n",
      "8.033764508294465e-07 8.033764508294461e-07 3.1763735522036263e-22\n",
      "2.4096643946915874e-06 2.409664394691588e-06 -8.470329472543003e-22\n",
      "1.7145235024755435e-06 1.7145235024755435e-06 0.0\n",
      "3.0530375173598006e-07 3.053037517359801e-07 -5.293955920339377e-23\n",
      "0.0 0.0 0.0\n",
      "0.0 0.0 0.0\n",
      "3.6030787873426255e-05 3.603078787342627e-05 -1.3552527156068805e-20\n",
      "3.6650936559082564e-07 3.665093655908257e-07 -5.293955920339377e-23\n",
      "3.1947807837682094e-07 3.194780783768209e-07 5.293955920339377e-23\n",
      "1.235500384525891e-07 1.2355003845258913e-07 -2.6469779601696886e-23\n",
      "1.5326466065634129e-06 1.5326466065634125e-06 4.235164736271502e-22\n",
      "6.531773709682459e-07 6.531773709682458e-07 1.0587911840678754e-22\n",
      "0.0 0.0 0.0\n",
      "0.0 0.0 0.0\n",
      "7.428975888384215e-08 7.428975888384215e-08 0.0\n",
      "1.0608142319765889e-06 1.0608142319765895e-06 -6.352747104407253e-22\n",
      "2.6452169582927215e-06 2.6452169582927215e-06 0.0\n",
      "8.923183983731802e-08 8.923183983731802e-08 0.0\n",
      "0.0 0.0 0.0\n",
      "4.3446211591933286e-07 4.344621159193329e-07 -5.293955920339377e-23\n",
      "1.531871497687553e-07 1.5318714976875532e-07 -2.6469779601696886e-23\n",
      "1.9687016281905587e-07 1.96870162819056e-07 -1.3234889800848443e-22\n",
      "0.0 0.0 0.0\n",
      "3.2202828026159605e-07 3.220282802615959e-07 1.5881867761018131e-22\n",
      "1.8943396517857988e-07 1.8943396517857986e-07 2.6469779601696886e-23\n",
      "4.346105286408713e-07 4.346105286408715e-07 -2.117582368135751e-22\n",
      "6.275367085835143e-09 6.275367085835144e-09 -8.271806125530277e-25\n",
      "1.8551384554843293e-09 1.8551384554843295e-09 -2.0679515313825692e-25\n",
      "1.11159288058881e-06 1.1115928805888102e-06 -2.117582368135751e-22\n",
      "2.5435940693939204e-06 2.54359406939392e-06 4.235164736271502e-22\n",
      "5.861739048612934e-07 5.861739048612934e-07 0.0\n",
      "1.0714558223657452e-07 1.071455822365745e-07 2.6469779601696886e-23\n",
      "5.578910395322998e-05 5.578910395322998e-05 0.0\n",
      "1.2808661980723142e-07 1.280866198072314e-07 2.6469779601696886e-23\n",
      "5.092910691616311e-07 5.092910691616309e-07 2.117582368135751e-22\n",
      "4.86943455663978e-09 4.869434556639778e-09 1.6543612251060553e-24\n",
      "3.9527298002101365e-07 3.952729800210138e-07 -1.5881867761018131e-22\n",
      "5.435795993746187e-07 5.435795993746187e-07 0.0\n",
      "3.4637278442727745e-09 3.4637278442727745e-09 0.0\n",
      "7.847172067733271e-05 7.847172067733271e-05 0.0\n",
      "1.0453349320098718e-06 1.0453349320098722e-06 -4.235164736271502e-22\n",
      "9.610203712382678e-08 9.610203712382678e-08 0.0\n",
      "4.80563906122452e-07 4.805639061224518e-07 2.117582368135751e-22\n",
      "9.101622074665032e-09 9.101622074665032e-09 0.0\n",
      "3.304253263273974e-09 3.3042532632739747e-09 -8.271806125530277e-25\n",
      "3.454158441977443e-05 3.454158441977442e-05 6.776263578034403e-21\n",
      "7.115338602027686e-07 7.115338602027687e-07 -1.0587911840678754e-22\n",
      "1.1437727097250725e-07 1.1437727097250724e-07 1.3234889800848443e-23\n",
      "0.0 0.0 0.0\n",
      "7.594433341117988e-09 7.594433341117988e-09 0.0\n",
      "4.0927417324102536e-08 4.092741732410253e-08 6.617444900424222e-24\n",
      "2.039395661992984e-06 2.0393956619929845e-06 -4.235164736271502e-22\n",
      "2.554576924699317e-05 2.554576924699317e-05 0.0\n",
      "0.0 0.0 0.0\n"
     ]
    }
   ],
   "source": [
    "for i in range(len(rowsums)):\n",
    "    print(rowsums[i],ro[i],rowsums[i]-ro[i])"
   ]
  },
  {
   "cell_type": "markdown",
   "metadata": {},
   "source": [
    "## Scrap Code"
   ]
  },
  {
   "cell_type": "code",
   "execution_count": 6,
   "metadata": {},
   "outputs": [],
   "source": [
    "def stochasticise(dfs):\n",
    "    \n",
    "    df = dfs.copy()\n",
    "    rowsums = []\n",
    "    \n",
    "    # Get the sum of each row, then divide each entry by that sum (normalise)\n",
    "    for index, row in df.iterrows():\n",
    "        a = sum(row)\n",
    "        rowsums.append(a)\n",
    "        if a > 0:\n",
    "            for i in df.columns:\n",
    "                df.iloc[index, i] = df.iloc[index, i]/a\n",
    "    \n",
    "    dfc = df.copy()\n",
    "    # Raise the transition matrix to the power of 7\n",
    "    for i in range(7):\n",
    "        df = np.matmul(df,dfc)\n",
    "    \n",
    "    # Convert it back to relative flows\n",
    "    for index, row in df.iterrows():\n",
    "        for i in df.columns:\n",
    "            df.iloc[index, i] = df.iloc[index, i]*rowsums[index]\n",
    "            \n",
    "    # Set diagonal to 0 (think about whether you want this)        \n",
    "    for i in range(len(df.columns)):\n",
    "        df.iloc[i,i]=0\n",
    "        \n",
    "    return df"
   ]
  },
  {
   "cell_type": "code",
   "execution_count": 4,
   "metadata": {},
   "outputs": [
    {
     "name": "stdout",
     "output_type": "stream",
     "text": [
      "0\n",
      "1\n",
      "2\n",
      "3\n",
      "4\n",
      "5\n",
      "6\n",
      "7\n",
      "8\n",
      "9\n",
      "10\n",
      "11\n",
      "12\n",
      "13\n",
      "14\n"
     ]
    },
    {
     "ename": "KeyboardInterrupt",
     "evalue": "",
     "output_type": "error",
     "traceback": [
      "\u001b[0;31m---------------------------------------------------------------------------\u001b[0m",
      "\u001b[0;31mKeyboardInterrupt\u001b[0m                         Traceback (most recent call last)",
      "\u001b[0;32m/var/folders/ys/xd1k0y7j01xghctdv8ktdd900000gn/T/ipykernel_2678/1481822030.py\u001b[0m in \u001b[0;36m<module>\u001b[0;34m\u001b[0m\n\u001b[1;32m      2\u001b[0m \u001b[0;32mfor\u001b[0m \u001b[0mi\u001b[0m \u001b[0;32min\u001b[0m \u001b[0mrange\u001b[0m\u001b[0;34m(\u001b[0m\u001b[0mlen\u001b[0m\u001b[0;34m(\u001b[0m\u001b[0mwa_297\u001b[0m\u001b[0;34m)\u001b[0m\u001b[0;34m)\u001b[0m\u001b[0;34m:\u001b[0m\u001b[0;34m\u001b[0m\u001b[0;34m\u001b[0m\u001b[0m\n\u001b[1;32m      3\u001b[0m     \u001b[0mprint\u001b[0m\u001b[0;34m(\u001b[0m\u001b[0mi\u001b[0m\u001b[0;34m)\u001b[0m\u001b[0;34m\u001b[0m\u001b[0;34m\u001b[0m\u001b[0m\n\u001b[0;32m----> 4\u001b[0;31m     \u001b[0mtemp\u001b[0m \u001b[0;34m=\u001b[0m \u001b[0mstochasticise\u001b[0m\u001b[0;34m(\u001b[0m\u001b[0md\u001b[0m\u001b[0;34m[\u001b[0m\u001b[0mstr\u001b[0m\u001b[0;34m(\u001b[0m\u001b[0mi\u001b[0m\u001b[0;34m)\u001b[0m\u001b[0;34m]\u001b[0m\u001b[0;34m)\u001b[0m\u001b[0;34m\u001b[0m\u001b[0;34m\u001b[0m\u001b[0m\n\u001b[0m\u001b[1;32m      5\u001b[0m     \u001b[0mtemp\u001b[0m\u001b[0;34m.\u001b[0m\u001b[0mto_csv\u001b[0m\u001b[0;34m(\u001b[0m\u001b[0;34m\"/Volumes/HardDrive/stochasticised/\"\u001b[0m\u001b[0;34m+\u001b[0m\u001b[0mwa_297\u001b[0m\u001b[0;34m[\u001b[0m\u001b[0mi\u001b[0m\u001b[0;34m]\u001b[0m\u001b[0;34m,\u001b[0m\u001b[0msep\u001b[0m \u001b[0;34m=\u001b[0m \u001b[0;34m'\\t'\u001b[0m\u001b[0;34m,\u001b[0m\u001b[0mindex\u001b[0m \u001b[0;34m=\u001b[0m \u001b[0;32mFalse\u001b[0m\u001b[0;34m,\u001b[0m \u001b[0mheader\u001b[0m \u001b[0;34m=\u001b[0m \u001b[0;32mFalse\u001b[0m\u001b[0;34m)\u001b[0m\u001b[0;34m\u001b[0m\u001b[0;34m\u001b[0m\u001b[0m\n",
      "\u001b[0;32m/var/folders/ys/xd1k0y7j01xghctdv8ktdd900000gn/T/ipykernel_2678/925545639.py\u001b[0m in \u001b[0;36mstochasticise\u001b[0;34m(dfs)\u001b[0m\n\u001b[1;32m     18\u001b[0m \u001b[0;34m\u001b[0m\u001b[0m\n\u001b[1;32m     19\u001b[0m     \u001b[0;31m# Convert it back to relative flows\u001b[0m\u001b[0;34m\u001b[0m\u001b[0;34m\u001b[0m\u001b[0;34m\u001b[0m\u001b[0m\n\u001b[0;32m---> 20\u001b[0;31m     \u001b[0;32mfor\u001b[0m \u001b[0mindex\u001b[0m\u001b[0;34m,\u001b[0m \u001b[0mrow\u001b[0m \u001b[0;32min\u001b[0m \u001b[0mdf\u001b[0m\u001b[0;34m.\u001b[0m\u001b[0miterrows\u001b[0m\u001b[0;34m(\u001b[0m\u001b[0;34m)\u001b[0m\u001b[0;34m:\u001b[0m\u001b[0;34m\u001b[0m\u001b[0;34m\u001b[0m\u001b[0m\n\u001b[0m\u001b[1;32m     21\u001b[0m         \u001b[0;32mfor\u001b[0m \u001b[0mi\u001b[0m \u001b[0;32min\u001b[0m \u001b[0mdf\u001b[0m\u001b[0;34m.\u001b[0m\u001b[0mcolumns\u001b[0m\u001b[0;34m:\u001b[0m\u001b[0;34m\u001b[0m\u001b[0;34m\u001b[0m\u001b[0m\n\u001b[1;32m     22\u001b[0m             \u001b[0mdf\u001b[0m\u001b[0;34m.\u001b[0m\u001b[0miloc\u001b[0m\u001b[0;34m[\u001b[0m\u001b[0mindex\u001b[0m\u001b[0;34m,\u001b[0m \u001b[0mi\u001b[0m\u001b[0;34m]\u001b[0m \u001b[0;34m=\u001b[0m \u001b[0mdf\u001b[0m\u001b[0;34m.\u001b[0m\u001b[0miloc\u001b[0m\u001b[0;34m[\u001b[0m\u001b[0mindex\u001b[0m\u001b[0;34m,\u001b[0m \u001b[0mi\u001b[0m\u001b[0;34m]\u001b[0m\u001b[0;34m*\u001b[0m\u001b[0mrowsums\u001b[0m\u001b[0;34m[\u001b[0m\u001b[0mindex\u001b[0m\u001b[0;34m]\u001b[0m\u001b[0;34m\u001b[0m\u001b[0;34m\u001b[0m\u001b[0m\n",
      "\u001b[0;32m/opt/anaconda3/lib/python3.7/site-packages/pandas/core/frame.py\u001b[0m in \u001b[0;36miterrows\u001b[0;34m(self)\u001b[0m\n\u001b[1;32m   1261\u001b[0m         \u001b[0mklass\u001b[0m \u001b[0;34m=\u001b[0m \u001b[0mself\u001b[0m\u001b[0;34m.\u001b[0m\u001b[0m_constructor_sliced\u001b[0m\u001b[0;34m\u001b[0m\u001b[0;34m\u001b[0m\u001b[0m\n\u001b[1;32m   1262\u001b[0m         \u001b[0;32mfor\u001b[0m \u001b[0mk\u001b[0m\u001b[0;34m,\u001b[0m \u001b[0mv\u001b[0m \u001b[0;32min\u001b[0m \u001b[0mzip\u001b[0m\u001b[0;34m(\u001b[0m\u001b[0mself\u001b[0m\u001b[0;34m.\u001b[0m\u001b[0mindex\u001b[0m\u001b[0;34m,\u001b[0m \u001b[0mself\u001b[0m\u001b[0;34m.\u001b[0m\u001b[0mvalues\u001b[0m\u001b[0;34m)\u001b[0m\u001b[0;34m:\u001b[0m\u001b[0;34m\u001b[0m\u001b[0;34m\u001b[0m\u001b[0m\n\u001b[0;32m-> 1263\u001b[0;31m             \u001b[0ms\u001b[0m \u001b[0;34m=\u001b[0m \u001b[0mklass\u001b[0m\u001b[0;34m(\u001b[0m\u001b[0mv\u001b[0m\u001b[0;34m,\u001b[0m \u001b[0mindex\u001b[0m\u001b[0;34m=\u001b[0m\u001b[0mcolumns\u001b[0m\u001b[0;34m,\u001b[0m \u001b[0mname\u001b[0m\u001b[0;34m=\u001b[0m\u001b[0mk\u001b[0m\u001b[0;34m)\u001b[0m\u001b[0;34m\u001b[0m\u001b[0;34m\u001b[0m\u001b[0m\n\u001b[0m\u001b[1;32m   1264\u001b[0m             \u001b[0;32myield\u001b[0m \u001b[0mk\u001b[0m\u001b[0;34m,\u001b[0m \u001b[0ms\u001b[0m\u001b[0;34m\u001b[0m\u001b[0;34m\u001b[0m\u001b[0m\n\u001b[1;32m   1265\u001b[0m \u001b[0;34m\u001b[0m\u001b[0m\n",
      "\u001b[0;32m/opt/anaconda3/lib/python3.7/site-packages/pandas/core/series.py\u001b[0m in \u001b[0;36m__init__\u001b[0;34m(self, data, index, dtype, name, copy, fastpath)\u001b[0m\n\u001b[1;32m    439\u001b[0m                 \u001b[0mdata\u001b[0m \u001b[0;34m=\u001b[0m \u001b[0msanitize_array\u001b[0m\u001b[0;34m(\u001b[0m\u001b[0mdata\u001b[0m\u001b[0;34m,\u001b[0m \u001b[0mindex\u001b[0m\u001b[0;34m,\u001b[0m \u001b[0mdtype\u001b[0m\u001b[0;34m,\u001b[0m \u001b[0mcopy\u001b[0m\u001b[0;34m)\u001b[0m\u001b[0;34m\u001b[0m\u001b[0;34m\u001b[0m\u001b[0m\n\u001b[1;32m    440\u001b[0m \u001b[0;34m\u001b[0m\u001b[0m\n\u001b[0;32m--> 441\u001b[0;31m                 \u001b[0mmanager\u001b[0m \u001b[0;34m=\u001b[0m \u001b[0mget_option\u001b[0m\u001b[0;34m(\u001b[0m\u001b[0;34m\"mode.data_manager\"\u001b[0m\u001b[0;34m)\u001b[0m\u001b[0;34m\u001b[0m\u001b[0;34m\u001b[0m\u001b[0m\n\u001b[0m\u001b[1;32m    442\u001b[0m                 \u001b[0;32mif\u001b[0m \u001b[0mmanager\u001b[0m \u001b[0;34m==\u001b[0m \u001b[0;34m\"block\"\u001b[0m\u001b[0;34m:\u001b[0m\u001b[0;34m\u001b[0m\u001b[0;34m\u001b[0m\u001b[0m\n\u001b[1;32m    443\u001b[0m                     \u001b[0mdata\u001b[0m \u001b[0;34m=\u001b[0m \u001b[0mSingleBlockManager\u001b[0m\u001b[0;34m.\u001b[0m\u001b[0mfrom_array\u001b[0m\u001b[0;34m(\u001b[0m\u001b[0mdata\u001b[0m\u001b[0;34m,\u001b[0m \u001b[0mindex\u001b[0m\u001b[0;34m)\u001b[0m\u001b[0;34m\u001b[0m\u001b[0;34m\u001b[0m\u001b[0m\n",
      "\u001b[0;32m/opt/anaconda3/lib/python3.7/site-packages/pandas/_config/config.py\u001b[0m in \u001b[0;36m__call__\u001b[0;34m(self, *args, **kwds)\u001b[0m\n\u001b[1;32m    240\u001b[0m         \u001b[0mself\u001b[0m\u001b[0;34m.\u001b[0m\u001b[0m__func__\u001b[0m \u001b[0;34m=\u001b[0m \u001b[0mfunc\u001b[0m\u001b[0;34m\u001b[0m\u001b[0;34m\u001b[0m\u001b[0m\n\u001b[1;32m    241\u001b[0m \u001b[0;34m\u001b[0m\u001b[0m\n\u001b[0;32m--> 242\u001b[0;31m     \u001b[0;32mdef\u001b[0m \u001b[0m__call__\u001b[0m\u001b[0;34m(\u001b[0m\u001b[0mself\u001b[0m\u001b[0;34m,\u001b[0m \u001b[0;34m*\u001b[0m\u001b[0margs\u001b[0m\u001b[0;34m,\u001b[0m \u001b[0;34m**\u001b[0m\u001b[0mkwds\u001b[0m\u001b[0;34m)\u001b[0m\u001b[0;34m:\u001b[0m\u001b[0;34m\u001b[0m\u001b[0;34m\u001b[0m\u001b[0m\n\u001b[0m\u001b[1;32m    243\u001b[0m         \u001b[0;32mreturn\u001b[0m \u001b[0mself\u001b[0m\u001b[0;34m.\u001b[0m\u001b[0m__func__\u001b[0m\u001b[0;34m(\u001b[0m\u001b[0;34m*\u001b[0m\u001b[0margs\u001b[0m\u001b[0;34m,\u001b[0m \u001b[0;34m**\u001b[0m\u001b[0mkwds\u001b[0m\u001b[0;34m)\u001b[0m\u001b[0;34m\u001b[0m\u001b[0;34m\u001b[0m\u001b[0m\n\u001b[1;32m    244\u001b[0m \u001b[0;34m\u001b[0m\u001b[0m\n",
      "\u001b[0;31mKeyboardInterrupt\u001b[0m: "
     ]
    }
   ],
   "source": [
    "# Run the function over each dataframe and write it to a folder\n",
    "for i in range(len(kal_flow)):\n",
    "    print(i)\n",
    "    temp = stochasticise(d[str(i)])\n",
    "    temp.to_csv(\"/Volumes/HardDrive/New_Workflow/stochastic_58/\"+kal_flow[i],index = False, header = False)"
   ]
  }
 ],
 "metadata": {
  "kernelspec": {
   "display_name": "Python 3 (ipykernel)",
   "language": "python",
   "name": "python3"
  },
  "language_info": {
   "codemirror_mode": {
    "name": "ipython",
    "version": 3
   },
   "file_extension": ".py",
   "mimetype": "text/x-python",
   "name": "python",
   "nbconvert_exporter": "python",
   "pygments_lexer": "ipython3",
   "version": "3.7.4"
  }
 },
 "nbformat": 4,
 "nbformat_minor": 2
}
