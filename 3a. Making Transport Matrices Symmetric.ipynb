{
 "cells": [
  {
   "cell_type": "markdown",
   "id": "72ad7482",
   "metadata": {},
   "source": [
    "# Making Transport Matrices Symmetric\n",
    "\n",
    "After some issues with the compartmental models due to some towns having a net greater inflow than outflow or vice versa, we decided a good method of keeping all populations constant is to make there be no net inflow/outflow- that is make all adjacency matrices symmetric by taking their mean."
   ]
  },
  {
   "cell_type": "code",
   "execution_count": 1,
   "id": "d2f92c9d",
   "metadata": {},
   "outputs": [],
   "source": [
    "#Import necessary libraries\n",
    "import pandas as pd\n",
    "import numpy as np\n",
    "import os\n",
    "import matplotlib.pyplot as plt"
   ]
  },
  {
   "cell_type": "code",
   "execution_count": 9,
   "id": "77daf4b4",
   "metadata": {},
   "outputs": [],
   "source": [
    "# Read in the stochastic adjacency matrices\n",
    "kl = sorted(os.listdir(\"/Volumes/HardDrive/New_Workflow/stochastic_44/\"))\n",
    "stoc = []\n",
    "for item in kl:\n",
    "    if '._' not in item:\n",
    "        stoc.append(item)\n",
    "        \n",
    "d = {}\n",
    "for i in range(len(stoc)):\n",
    "    d[str(i)] = pd.read_csv(\"/Volumes/HardDrive/New_Workflow/stochastic_44/\"+stoc[i], header = None)"
   ]
  },
  {
   "cell_type": "code",
   "execution_count": 10,
   "id": "53883a1c",
   "metadata": {},
   "outputs": [],
   "source": [
    "waloc = pd.read_csv('/Users/Yuval/Desktop/Thesis/all-wa-pos.csv')#use this for all 297 towns\n",
    "waloc = waloc.loc[waloc['Population'] >0]\n",
    "# When doing big towns\n",
    "waloc = waloc[:58]\n",
    "\n",
    "# When ignoring sattelite towns\n",
    "waloc = waloc.loc[(waloc['City / Town'] != 'Yanchep') & (waloc['City / Town'] != 'Bullsbrook') &\n",
    "                  (waloc['City / Town'] != 'Mundijong') & (waloc['City / Town'] != 'Serpentine') &\n",
    "                 (waloc['City / Town'] != 'Two Rocks') ]\n",
    "waloc = waloc.reset_index()\n",
    "waloc = waloc.drop(columns = ['index'])\n",
    "\n",
    "# When also ignoring rural sattelite towns\n",
    "waloc = waloc.loc[(waloc['City / Town'] != 'Pinjarra') & (waloc['City / Town'] != 'Drummond Cove') &\n",
    "                  (waloc['City / Town'] != 'Bridgetown') & (waloc['City / Town'] != 'Binningup') &\n",
    "                 (waloc['City / Town'] != 'Dampier') ]\n",
    "waloc = waloc.reset_index()\n",
    "waloc = waloc.drop(columns = ['index'])\n",
    "\n",
    "# When also ignoring 0 flow towns\n",
    "waloc = waloc.loc[(waloc['City / Town'] != 'Kununurra') & (waloc['City / Town'] != 'Derby') &\n",
    "                  (waloc['City / Town'] != 'Boddington-Ranford') & (waloc['City / Town'] != 'Wyndham')]\n",
    "waloc = waloc.reset_index()\n",
    "waloc = waloc.drop(columns = ['index'])"
   ]
  },
  {
   "cell_type": "code",
   "execution_count": 11,
   "id": "44b2be40",
   "metadata": {
    "scrolled": false
   },
   "outputs": [
    {
     "data": {
      "text/plain": [
       "[<matplotlib.lines.Line2D at 0x7fee1793bd90>]"
      ]
     },
     "execution_count": 11,
     "metadata": {},
     "output_type": "execute_result"
    },
    {
     "data": {
      "image/png": "[encoded data removed]",
      "text/plain": [
       "<Figure size 432x288 with 1 Axes>"
      ]
     },
     "metadata": {
      "needs_background": "light"
     },
     "output_type": "display_data"
    }
   ],
   "source": [
    "df = d[str(0)].copy()\n",
    "listform = df.to_numpy().tolist()\n",
    "diff = []\n",
    "for i in range(len(listform)):\n",
    "    for j in range(i+1,len(listform[0])):\n",
    "        diff.append(listform[i][j]- listform[j][i])\n",
    "plt.plot(diff)"
   ]
  },
  {
   "cell_type": "code",
   "execution_count": 12,
   "id": "e7ca17f9",
   "metadata": {},
   "outputs": [],
   "source": [
    "new_df = []\n",
    "for i in range(len(listform)):\n",
    "    new = []\n",
    "    for j in range(len(listform[i])):\n",
    "        new.append((listform[i][j]+ listform[j][i])/2)\n",
    "    new_df.append(new)"
   ]
  },
  {
   "cell_type": "code",
   "execution_count": 13,
   "id": "d9337cd5",
   "metadata": {},
   "outputs": [
    {
     "data": {
      "text/plain": [
       "[<matplotlib.lines.Line2D at 0x7fee1819e450>]"
      ]
     },
     "execution_count": 13,
     "metadata": {},
     "output_type": "execute_result"
    },
    {
     "data": {
      "image/png": "[encoded data removed]",
      "text/plain": [
       "<Figure size 432x288 with 1 Axes>"
      ]
     },
     "metadata": {
      "needs_background": "light"
     },
     "output_type": "display_data"
    }
   ],
   "source": [
    "diff = []\n",
    "listform = new_df\n",
    "for i in range(len(listform)):\n",
    "    for j in range(i+1,len(listform[0])):\n",
    "        diff.append(listform[i][j]- listform[j][i])\n",
    "plt.plot(diff)"
   ]
  },
  {
   "cell_type": "markdown",
   "id": "aea483b1",
   "metadata": {},
   "source": [
    "Great, it works! Now write it into a function."
   ]
  },
  {
   "cell_type": "code",
   "execution_count": 14,
   "id": "d80ef22e",
   "metadata": {},
   "outputs": [],
   "source": [
    "def even_it_out(df):\n",
    "    \n",
    "    listform = df.to_numpy().tolist()\n",
    "    \n",
    "    new_df = []\n",
    "    for i in range(len(listform)):\n",
    "        new = []\n",
    "        for j in range(len(listform[i])):\n",
    "            new.append((listform[i][j]+ listform[j][i])/2)\n",
    "        new_df.append(new)\n",
    "    \n",
    "    return pd.DataFrame(new_df)"
   ]
  },
  {
   "cell_type": "code",
   "execution_count": 15,
   "id": "0a481c27",
   "metadata": {},
   "outputs": [],
   "source": [
    "for i in range(len(stoc)):\n",
    "    dp = pd.read_csv(\"/Volumes/HardDrive/New_Workflow/stochastic_44/\"+stoc[i], header = None)\n",
    "    \n",
    "    df = dp.copy()\n",
    "    \n",
    "    new_df = even_it_out(df)\n",
    "    \n",
    "    new_df.to_csv(\"/Volumes/HardDrive/New_Workflow/symm_stoc_44/\"+stoc[i],index = False, header = False)"
   ]
  },
  {
   "cell_type": "code",
   "execution_count": null,
   "id": "469e787d",
   "metadata": {},
   "outputs": [],
   "source": []
  },
  {
   "cell_type": "code",
   "execution_count": null,
   "id": "6748a249",
   "metadata": {},
   "outputs": [],
   "source": []
  },
  {
   "cell_type": "markdown",
   "id": "0cbf756c",
   "metadata": {},
   "source": [
    "Had another problem - sometimes the flow is too great that there are more people outgoing/incoming than the population of the town...\n",
    "For now just write it to max out at one of the town's populations"
   ]
  },
  {
   "cell_type": "code",
   "execution_count": 4,
   "id": "da8c3d5c",
   "metadata": {},
   "outputs": [],
   "source": [
    "d = {}\n",
    "for i in range(len(stoc)):\n",
    "    d[str(i)] = pd.read_csv(\"/Volumes/HardDrive/New_Workflow/symm_stoc_48/\"+stoc[i], header = None)"
   ]
  },
  {
   "cell_type": "code",
   "execution_count": 5,
   "id": "a0f5cf7e",
   "metadata": {},
   "outputs": [],
   "source": [
    "d['lvl_2'] = pd.read_csv(\"/Volumes/HardDrive/New_Workflow/restrictions/level_2.csv\", header = None)"
   ]
  },
  {
   "cell_type": "code",
   "execution_count": 9,
   "id": "06955b98",
   "metadata": {},
   "outputs": [],
   "source": [
    "popn = list(waloc['Population'])"
   ]
  },
  {
   "cell_type": "code",
   "execution_count": 10,
   "id": "244ea34c",
   "metadata": {},
   "outputs": [],
   "source": [
    "C = 9*10**9"
   ]
  },
  {
   "cell_type": "code",
   "execution_count": 11,
   "id": "96a29ee6",
   "metadata": {},
   "outputs": [
    {
     "name": "stdout",
     "output_type": "stream",
     "text": [
      "50303.808483850706 25329 5\n",
      "25003.83589846953 15828 6\n",
      "17330.943904216463 13828 8\n",
      "9650.882199105452 7192 10\n",
      "10493.277267028749 6548 11\n",
      "32803.607389054894 6039 13\n",
      "23163.164777180486 4567 14\n",
      "4706.242131722626 4213 18\n",
      "15031.22636989351 2956 21\n",
      "3166.877847563646 2782 22\n",
      "6571.366635295169 2750 23\n",
      "8332.387682257711 2558 25\n",
      "6112.405260681181 2548 26\n",
      "16237.534777579303 2520 27\n",
      "15768.842268523373 2020 30\n",
      "3046.9255418475286 1905 31\n",
      "3118.345332532048 1789 32\n",
      "10806.072592266766 1703 33\n",
      "7931.9826998573135 1572 35\n",
      "12143.58634576476 1546 36\n",
      "1444.5902162324128 1425 38\n",
      "13364.198174684776 1359 39\n",
      "2668.160580888525 1165 42\n",
      "271816.4754263902 80813 46\n"
     ]
    }
   ],
   "source": [
    "llist = []\n",
    "df = d['lvl_2'].copy()*C/7\n",
    "listform = df.to_numpy().tolist()\n",
    "for i in range(len(listform)):\n",
    "    if sum(listform[i]) > popn[i]:\n",
    "        if i in llist:\n",
    "            continue\n",
    "        else:\n",
    "            print(sum(listform[i]), popn[i],i)\n",
    "            llist.append(i)"
   ]
  },
  {
   "cell_type": "code",
   "execution_count": 12,
   "id": "f43ad72e",
   "metadata": {},
   "outputs": [],
   "source": [
    "llist = []\n",
    "for week in range(len(d)):\n",
    "    df = d[str(week)].copy()*C/7\n",
    "    listform = df.to_numpy().tolist()\n",
    "    for i in range(len(listform)):\n",
    "        if sum(listform[i]) > popn[i]:\n",
    "            if i in llist:\n",
    "                continue\n",
    "            else:\n",
    "                print(sum(listform[i]), popn[i],i)\n",
    "                llist.append(i)"
   ]
  },
  {
   "cell_type": "code",
   "execution_count": 13,
   "id": "2d4adaac",
   "metadata": {},
   "outputs": [
    {
     "data": {
      "text/plain": [
       "[]"
      ]
     },
     "execution_count": 13,
     "metadata": {},
     "output_type": "execute_result"
    }
   ],
   "source": [
    "llist"
   ]
  },
  {
   "cell_type": "code",
   "execution_count": 101,
   "id": "5766bed3",
   "metadata": {},
   "outputs": [
    {
     "name": "stdout",
     "output_type": "stream",
     "text": [
      "Pinjarra\n",
      "Drummond Cove\n",
      "Dampier\n",
      "Bridgetown\n",
      "Binningup\n"
     ]
    }
   ],
   "source": [
    "for i in llist:\n",
    "    print(waloc.iloc[i][0])"
   ]
  },
  {
   "cell_type": "code",
   "execution_count": 81,
   "id": "42b97c6d",
   "metadata": {},
   "outputs": [
    {
     "data": {
      "text/html": [
       "<div>\n",
       "<style scoped>\n",
       "    .dataframe tbody tr th:only-of-type {\n",
       "        vertical-align: middle;\n",
       "    }\n",
       "\n",
       "    .dataframe tbody tr th {\n",
       "        vertical-align: top;\n",
       "    }\n",
       "\n",
       "    .dataframe thead th {\n",
       "        text-align: right;\n",
       "    }\n",
       "</style>\n",
       "<table border=\"1\" class=\"dataframe\">\n",
       "  <thead>\n",
       "    <tr style=\"text-align: right;\">\n",
       "      <th></th>\n",
       "      <th>City / Town</th>\n",
       "      <th>Population</th>\n",
       "      <th>long</th>\n",
       "      <th>latt</th>\n",
       "    </tr>\n",
       "  </thead>\n",
       "  <tbody>\n",
       "    <tr>\n",
       "      <th>0</th>\n",
       "      <td>Perth</td>\n",
       "      <td>1874578</td>\n",
       "      <td>115.860500</td>\n",
       "      <td>-31.9505</td>\n",
       "    </tr>\n",
       "    <tr>\n",
       "      <th>1</th>\n",
       "      <td>Bunbury</td>\n",
       "      <td>71090</td>\n",
       "      <td>115.639600</td>\n",
       "      <td>-33.3256</td>\n",
       "    </tr>\n",
       "    <tr>\n",
       "      <th>2</th>\n",
       "      <td>Geraldton</td>\n",
       "      <td>31982</td>\n",
       "      <td>114.614400</td>\n",
       "      <td>-28.7797</td>\n",
       "    </tr>\n",
       "    <tr>\n",
       "      <th>3</th>\n",
       "      <td>Kalgoorlie-Boulder</td>\n",
       "      <td>29875</td>\n",
       "      <td>121.466000</td>\n",
       "      <td>-30.7490</td>\n",
       "    </tr>\n",
       "    <tr>\n",
       "      <th>4</th>\n",
       "      <td>Albany</td>\n",
       "      <td>29373</td>\n",
       "      <td>117.883700</td>\n",
       "      <td>-35.0269</td>\n",
       "    </tr>\n",
       "    <tr>\n",
       "      <th>5</th>\n",
       "      <td>Busselton</td>\n",
       "      <td>25329</td>\n",
       "      <td>115.345500</td>\n",
       "      <td>-33.6532</td>\n",
       "    </tr>\n",
       "    <tr>\n",
       "      <th>6</th>\n",
       "      <td>Karratha</td>\n",
       "      <td>15828</td>\n",
       "      <td>116.845800</td>\n",
       "      <td>-20.7353</td>\n",
       "    </tr>\n",
       "    <tr>\n",
       "      <th>7</th>\n",
       "      <td>Broome</td>\n",
       "      <td>13984</td>\n",
       "      <td>122.230400</td>\n",
       "      <td>-17.9644</td>\n",
       "    </tr>\n",
       "    <tr>\n",
       "      <th>8</th>\n",
       "      <td>Port Hedland</td>\n",
       "      <td>13828</td>\n",
       "      <td>118.486400</td>\n",
       "      <td>-20.9818</td>\n",
       "    </tr>\n",
       "    <tr>\n",
       "      <th>9</th>\n",
       "      <td>Esperance</td>\n",
       "      <td>10421</td>\n",
       "      <td>121.992800</td>\n",
       "      <td>-33.4866</td>\n",
       "    </tr>\n",
       "    <tr>\n",
       "      <th>10</th>\n",
       "      <td>Collie</td>\n",
       "      <td>7192</td>\n",
       "      <td>116.183200</td>\n",
       "      <td>-33.3154</td>\n",
       "    </tr>\n",
       "    <tr>\n",
       "      <th>11</th>\n",
       "      <td>Northam</td>\n",
       "      <td>6548</td>\n",
       "      <td>116.702500</td>\n",
       "      <td>-31.6420</td>\n",
       "    </tr>\n",
       "    <tr>\n",
       "      <th>12</th>\n",
       "      <td>Margaret River</td>\n",
       "      <td>6392</td>\n",
       "      <td>115.188900</td>\n",
       "      <td>-34.1623</td>\n",
       "    </tr>\n",
       "    <tr>\n",
       "      <th>13</th>\n",
       "      <td>Dunsborough</td>\n",
       "      <td>6039</td>\n",
       "      <td>115.101100</td>\n",
       "      <td>-33.6174</td>\n",
       "    </tr>\n",
       "    <tr>\n",
       "      <th>14</th>\n",
       "      <td>Newman</td>\n",
       "      <td>4567</td>\n",
       "      <td>119.736800</td>\n",
       "      <td>-23.3572</td>\n",
       "    </tr>\n",
       "    <tr>\n",
       "      <th>15</th>\n",
       "      <td>Carnarvon</td>\n",
       "      <td>4426</td>\n",
       "      <td>113.662200</td>\n",
       "      <td>-24.8877</td>\n",
       "    </tr>\n",
       "    <tr>\n",
       "      <th>16</th>\n",
       "      <td>Kununurra</td>\n",
       "      <td>4341</td>\n",
       "      <td>128.765500</td>\n",
       "      <td>-15.6049</td>\n",
       "    </tr>\n",
       "    <tr>\n",
       "      <th>17</th>\n",
       "      <td>Narrogin</td>\n",
       "      <td>4274</td>\n",
       "      <td>117.167700</td>\n",
       "      <td>-32.9377</td>\n",
       "    </tr>\n",
       "    <tr>\n",
       "      <th>18</th>\n",
       "      <td>Manjimup</td>\n",
       "      <td>4213</td>\n",
       "      <td>116.230500</td>\n",
       "      <td>-34.5092</td>\n",
       "    </tr>\n",
       "    <tr>\n",
       "      <th>19</th>\n",
       "      <td>Katanning</td>\n",
       "      <td>3702</td>\n",
       "      <td>117.690400</td>\n",
       "      <td>-33.6278</td>\n",
       "    </tr>\n",
       "    <tr>\n",
       "      <th>20</th>\n",
       "      <td>Derby</td>\n",
       "      <td>3325</td>\n",
       "      <td>125.214800</td>\n",
       "      <td>-16.8419</td>\n",
       "    </tr>\n",
       "    <tr>\n",
       "      <th>21</th>\n",
       "      <td>Tom Price</td>\n",
       "      <td>2956</td>\n",
       "      <td>117.795000</td>\n",
       "      <td>-22.6961</td>\n",
       "    </tr>\n",
       "    <tr>\n",
       "      <th>22</th>\n",
       "      <td>Port Denison-Dongara</td>\n",
       "      <td>2782</td>\n",
       "      <td>114.922000</td>\n",
       "      <td>-29.2339</td>\n",
       "    </tr>\n",
       "    <tr>\n",
       "      <th>23</th>\n",
       "      <td>Harvey</td>\n",
       "      <td>2750</td>\n",
       "      <td>115.905700</td>\n",
       "      <td>-33.0823</td>\n",
       "    </tr>\n",
       "    <tr>\n",
       "      <th>24</th>\n",
       "      <td>Merredin</td>\n",
       "      <td>2636</td>\n",
       "      <td>118.392900</td>\n",
       "      <td>-31.5853</td>\n",
       "    </tr>\n",
       "    <tr>\n",
       "      <th>25</th>\n",
       "      <td>Denmark</td>\n",
       "      <td>2558</td>\n",
       "      <td>117.079400</td>\n",
       "      <td>-34.8850</td>\n",
       "    </tr>\n",
       "    <tr>\n",
       "      <th>26</th>\n",
       "      <td>York</td>\n",
       "      <td>2548</td>\n",
       "      <td>116.768200</td>\n",
       "      <td>-31.8935</td>\n",
       "    </tr>\n",
       "    <tr>\n",
       "      <th>27</th>\n",
       "      <td>Donnybrook</td>\n",
       "      <td>2520</td>\n",
       "      <td>115.828000</td>\n",
       "      <td>-33.5788</td>\n",
       "    </tr>\n",
       "    <tr>\n",
       "      <th>28</th>\n",
       "      <td>Exmouth</td>\n",
       "      <td>2486</td>\n",
       "      <td>114.123700</td>\n",
       "      <td>-21.9313</td>\n",
       "    </tr>\n",
       "    <tr>\n",
       "      <th>29</th>\n",
       "      <td>Waroona</td>\n",
       "      <td>2397</td>\n",
       "      <td>115.899500</td>\n",
       "      <td>-32.8758</td>\n",
       "    </tr>\n",
       "    <tr>\n",
       "      <th>30</th>\n",
       "      <td>Capel</td>\n",
       "      <td>2020</td>\n",
       "      <td>115.615500</td>\n",
       "      <td>-33.5258</td>\n",
       "    </tr>\n",
       "    <tr>\n",
       "      <th>31</th>\n",
       "      <td>Mount Barker</td>\n",
       "      <td>1905</td>\n",
       "      <td>117.666944</td>\n",
       "      <td>-35.0809</td>\n",
       "    </tr>\n",
       "    <tr>\n",
       "      <th>32</th>\n",
       "      <td>Kambalda West</td>\n",
       "      <td>1789</td>\n",
       "      <td>121.662500</td>\n",
       "      <td>-31.2016</td>\n",
       "    </tr>\n",
       "    <tr>\n",
       "      <th>33</th>\n",
       "      <td>Little Grove</td>\n",
       "      <td>1703</td>\n",
       "      <td>117.870100</td>\n",
       "      <td>-35.0682</td>\n",
       "    </tr>\n",
       "    <tr>\n",
       "      <th>34</th>\n",
       "      <td>Moora</td>\n",
       "      <td>1577</td>\n",
       "      <td>116.135900</td>\n",
       "      <td>-30.5747</td>\n",
       "    </tr>\n",
       "    <tr>\n",
       "      <th>35</th>\n",
       "      <td>Wickham</td>\n",
       "      <td>1572</td>\n",
       "      <td>117.147300</td>\n",
       "      <td>-20.6732</td>\n",
       "    </tr>\n",
       "    <tr>\n",
       "      <th>36</th>\n",
       "      <td>Cowaramup</td>\n",
       "      <td>1546</td>\n",
       "      <td>115.101400</td>\n",
       "      <td>-33.8522</td>\n",
       "    </tr>\n",
       "    <tr>\n",
       "      <th>37</th>\n",
       "      <td>Halls Creek</td>\n",
       "      <td>1546</td>\n",
       "      <td>127.670100</td>\n",
       "      <td>-18.2229</td>\n",
       "    </tr>\n",
       "    <tr>\n",
       "      <th>38</th>\n",
       "      <td>Jurien Bay</td>\n",
       "      <td>1425</td>\n",
       "      <td>115.117800</td>\n",
       "      <td>-30.2938</td>\n",
       "    </tr>\n",
       "    <tr>\n",
       "      <th>39</th>\n",
       "      <td>Paraburdoo</td>\n",
       "      <td>1359</td>\n",
       "      <td>117.656700</td>\n",
       "      <td>-23.2042</td>\n",
       "    </tr>\n",
       "    <tr>\n",
       "      <th>40</th>\n",
       "      <td>Wagin</td>\n",
       "      <td>1358</td>\n",
       "      <td>117.346200</td>\n",
       "      <td>-33.3109</td>\n",
       "    </tr>\n",
       "    <tr>\n",
       "      <th>41</th>\n",
       "      <td>Kalbarri</td>\n",
       "      <td>1349</td>\n",
       "      <td>114.164600</td>\n",
       "      <td>-27.7104</td>\n",
       "    </tr>\n",
       "    <tr>\n",
       "      <th>42</th>\n",
       "      <td>Kojonup</td>\n",
       "      <td>1165</td>\n",
       "      <td>117.159000</td>\n",
       "      <td>-33.8284</td>\n",
       "    </tr>\n",
       "    <tr>\n",
       "      <th>43</th>\n",
       "      <td>Boddington-Ranford</td>\n",
       "      <td>1147</td>\n",
       "      <td>116.494900</td>\n",
       "      <td>-32.7928</td>\n",
       "    </tr>\n",
       "    <tr>\n",
       "      <th>44</th>\n",
       "      <td>Fitzroy Crossing</td>\n",
       "      <td>1141</td>\n",
       "      <td>125.560400</td>\n",
       "      <td>-18.1937</td>\n",
       "    </tr>\n",
       "    <tr>\n",
       "      <th>45</th>\n",
       "      <td>Augusta</td>\n",
       "      <td>1109</td>\n",
       "      <td>115.159700</td>\n",
       "      <td>-34.3160</td>\n",
       "    </tr>\n",
       "    <tr>\n",
       "      <th>46</th>\n",
       "      <td>Mandurah</td>\n",
       "      <td>80813</td>\n",
       "      <td>115.742400</td>\n",
       "      <td>-32.5361</td>\n",
       "    </tr>\n",
       "    <tr>\n",
       "      <th>47</th>\n",
       "      <td>Wyndham</td>\n",
       "      <td>780</td>\n",
       "      <td>128.220100</td>\n",
       "      <td>-15.5847</td>\n",
       "    </tr>\n",
       "  </tbody>\n",
       "</table>\n",
       "</div>"
      ],
      "text/plain": [
       "             City / Town  Population        long     latt\n",
       "0                  Perth     1874578  115.860500 -31.9505\n",
       "1                Bunbury       71090  115.639600 -33.3256\n",
       "2              Geraldton       31982  114.614400 -28.7797\n",
       "3     Kalgoorlie-Boulder       29875  121.466000 -30.7490\n",
       "4                 Albany       29373  117.883700 -35.0269\n",
       "5              Busselton       25329  115.345500 -33.6532\n",
       "6               Karratha       15828  116.845800 -20.7353\n",
       "7                 Broome       13984  122.230400 -17.9644\n",
       "8           Port Hedland       13828  118.486400 -20.9818\n",
       "9              Esperance       10421  121.992800 -33.4866\n",
       "10                Collie        7192  116.183200 -33.3154\n",
       "11               Northam        6548  116.702500 -31.6420\n",
       "12        Margaret River        6392  115.188900 -34.1623\n",
       "13           Dunsborough        6039  115.101100 -33.6174\n",
       "14                Newman        4567  119.736800 -23.3572\n",
       "15             Carnarvon        4426  113.662200 -24.8877\n",
       "16             Kununurra        4341  128.765500 -15.6049\n",
       "17              Narrogin        4274  117.167700 -32.9377\n",
       "18              Manjimup        4213  116.230500 -34.5092\n",
       "19             Katanning        3702  117.690400 -33.6278\n",
       "20                 Derby        3325  125.214800 -16.8419\n",
       "21             Tom Price        2956  117.795000 -22.6961\n",
       "22  Port Denison-Dongara        2782  114.922000 -29.2339\n",
       "23                Harvey        2750  115.905700 -33.0823\n",
       "24              Merredin        2636  118.392900 -31.5853\n",
       "25               Denmark        2558  117.079400 -34.8850\n",
       "26                  York        2548  116.768200 -31.8935\n",
       "27            Donnybrook        2520  115.828000 -33.5788\n",
       "28               Exmouth        2486  114.123700 -21.9313\n",
       "29               Waroona        2397  115.899500 -32.8758\n",
       "30                 Capel        2020  115.615500 -33.5258\n",
       "31          Mount Barker        1905  117.666944 -35.0809\n",
       "32         Kambalda West        1789  121.662500 -31.2016\n",
       "33          Little Grove        1703  117.870100 -35.0682\n",
       "34                 Moora        1577  116.135900 -30.5747\n",
       "35               Wickham        1572  117.147300 -20.6732\n",
       "36             Cowaramup        1546  115.101400 -33.8522\n",
       "37           Halls Creek        1546  127.670100 -18.2229\n",
       "38            Jurien Bay        1425  115.117800 -30.2938\n",
       "39            Paraburdoo        1359  117.656700 -23.2042\n",
       "40                 Wagin        1358  117.346200 -33.3109\n",
       "41              Kalbarri        1349  114.164600 -27.7104\n",
       "42               Kojonup        1165  117.159000 -33.8284\n",
       "43    Boddington-Ranford        1147  116.494900 -32.7928\n",
       "44      Fitzroy Crossing        1141  125.560400 -18.1937\n",
       "45               Augusta        1109  115.159700 -34.3160\n",
       "46              Mandurah       80813  115.742400 -32.5361\n",
       "47               Wyndham         780  128.220100 -15.5847"
      ]
     },
     "execution_count": 81,
     "metadata": {},
     "output_type": "execute_result"
    }
   ],
   "source": [
    "waloc"
   ]
  },
  {
   "cell_type": "code",
   "execution_count": 75,
   "id": "f6116bca",
   "metadata": {},
   "outputs": [],
   "source": [
    "df = d['70'].copy()*C/7\n",
    "\n",
    "listform = df.to_numpy().tolist()\n",
    "for i in range(len(listform)):\n",
    "    for j in range(len(listform[0])):\n",
    "        if listform[i][j] > popn[i]:\n",
    "            print(listform[i][j], popn[i])\n",
    "            listform[i][j] = popn[i]"
   ]
  },
  {
   "cell_type": "code",
   "execution_count": 76,
   "id": "d7a65fde",
   "metadata": {},
   "outputs": [],
   "source": [
    "for i in range(len(listform)):\n",
    "    for j in range(len(listform[0])):\n",
    "        if listform[i][j] > popn[i]:\n",
    "            print(listform[i][j], popn[i])\n",
    "            listform[i][j] = popn[i]"
   ]
  },
  {
   "cell_type": "markdown",
   "id": "ad35d72a",
   "metadata": {},
   "source": [
    "Great, it works, now write it into a function."
   ]
  },
  {
   "cell_type": "code",
   "execution_count": 83,
   "id": "a1fd026b",
   "metadata": {},
   "outputs": [],
   "source": [
    "def max_it_out(df):\n",
    "    \n",
    "    dp = df.copy()*C/7\n",
    "    \n",
    "    counter = 0\n",
    "    listform = dp.to_numpy().tolist()\n",
    "    for i in range(len(listform)):\n",
    "        for j in range(len(listform[0])):\n",
    "            if listform[i][j] > popn[i]:\n",
    "                counter += 1 # Keep count of how often this happens\n",
    "                listform[i][j] = (popn[i]-1)*7/C\n",
    "                listform[j][i] = (popn[i]-1)*7/C\n",
    "            else:\n",
    "                listform[i][j] = listform[i][j]*7/C\n",
    "    \n",
    "    return pd.DataFrame(listform), counter"
   ]
  },
  {
   "cell_type": "code",
   "execution_count": null,
   "id": "e56488d1",
   "metadata": {},
   "outputs": [],
   "source": []
  },
  {
   "cell_type": "code",
   "execution_count": null,
   "id": "c369e03b",
   "metadata": {},
   "outputs": [],
   "source": []
  },
  {
   "cell_type": "code",
   "execution_count": null,
   "id": "52527e4d",
   "metadata": {},
   "outputs": [],
   "source": []
  },
  {
   "cell_type": "code",
   "execution_count": 84,
   "id": "a214a1dd",
   "metadata": {},
   "outputs": [],
   "source": [
    "problems = []\n",
    "for i in range(len(stoc)):\n",
    "    dp = pd.read_csv(\"/Volumes/HardDrive/New_Workflow/stochastic_53/\"+stoc[i], header = None)\n",
    "    \n",
    "    df = dp.copy()\n",
    "    \n",
    "    new_df = even_it_out(df)\n",
    "    \n",
    "    newer_df, co = max_it_out(new_df)\n",
    "    \n",
    "    problems.append(co)\n",
    "    \n",
    "    newer_df.to_csv(\"/Volumes/HardDrive/New_Workflow/symm_stoc_53/\"+stoc[i],index = False, header = False)"
   ]
  },
  {
   "cell_type": "code",
   "execution_count": 85,
   "id": "b2f8ba62",
   "metadata": {},
   "outputs": [
    {
     "data": {
      "text/plain": [
       "1.7525773195876289"
      ]
     },
     "execution_count": 85,
     "metadata": {},
     "output_type": "execute_result"
    }
   ],
   "source": [
    "np.average(problems)"
   ]
  },
  {
   "cell_type": "code",
   "execution_count": 86,
   "id": "c35dd0f6",
   "metadata": {},
   "outputs": [
    {
     "data": {
      "text/plain": [
       "2051.0"
      ]
     },
     "execution_count": 86,
     "metadata": {},
     "output_type": "execute_result"
    }
   ],
   "source": [
    "d = {}\n",
    "for i in range(len(stoc)):\n",
    "    d[str(i)] = pd.read_csv(\"/Volumes/HardDrive/New_Workflow/symm_stoc_53/\"+stoc[i], header = None)\n",
    "\n",
    "d['70'][31][2].copy()*C/7"
   ]
  },
  {
   "cell_type": "code",
   "execution_count": 82,
   "id": "bb2c9473",
   "metadata": {},
   "outputs": [
    {
     "data": {
      "text/plain": [
       "-0.999998404"
      ]
     },
     "execution_count": 82,
     "metadata": {},
     "output_type": "execute_result"
    }
   ],
   "source": [
    "d['70'][31][2]"
   ]
  },
  {
   "cell_type": "code",
   "execution_count": null,
   "id": "1efcbcf4",
   "metadata": {},
   "outputs": [],
   "source": []
  }
 ],
 "metadata": {
  "kernelspec": {
   "display_name": "Python 3 (ipykernel)",
   "language": "python",
   "name": "python3"
  },
  "language_info": {
   "codemirror_mode": {
    "name": "ipython",
    "version": 3
   },
   "file_extension": ".py",
   "mimetype": "text/x-python",
   "name": "python",
   "nbconvert_exporter": "python",
   "pygments_lexer": "ipython3",
   "version": "3.7.4"
  }
 },
 "nbformat": 4,
 "nbformat_minor": 5
}
