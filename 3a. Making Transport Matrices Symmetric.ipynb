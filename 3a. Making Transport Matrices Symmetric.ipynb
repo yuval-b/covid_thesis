{
 "cells": [
  {
   "cell_type": "markdown",
   "id": "72ad7482",
   "metadata": {},
   "source": [
    "# Making Transport Matrices Symmetric\n",
    "\n",
    "After some issues with the compartmental models due to some towns having a net greater inflow than outflow or vice versa, we decided a good method of keeping all populations constant is to make there be no net inflow/outflow- that is make all adjacency matrices symmetric by taking their mean."
   ]
  },
  {
   "cell_type": "code",
   "execution_count": 8,
   "id": "d2f92c9d",
   "metadata": {},
   "outputs": [],
   "source": [
    "#Import necessary libraries\n",
    "import pandas as pd\n",
    "import numpy as np\n",
    "import os\n",
    "import matplotlib.pyplot as plt"
   ]
  },
  {
   "cell_type": "code",
   "execution_count": 2,
   "id": "77daf4b4",
   "metadata": {},
   "outputs": [],
   "source": [
    "# Read in the stochastic adjacency matrices\n",
    "kl = sorted(os.listdir(\"/Volumes/HardDrive/New_Workflow/stochastic_53/\"))\n",
    "stoc = []\n",
    "for item in kl:\n",
    "    if '._' not in item:\n",
    "        stoc.append(item)\n",
    "        \n",
    "d = {}\n",
    "for i in range(len(stoc)):\n",
    "    d[str(i)] = pd.read_csv(\"/Volumes/HardDrive/New_Workflow/stochastic_53/\"+stoc[i], header = None)"
   ]
  },
  {
   "cell_type": "code",
   "execution_count": 11,
   "id": "44b2be40",
   "metadata": {},
   "outputs": [
    {
     "data": {
      "text/plain": [
       "[<matplotlib.lines.Line2D at 0x7f9ad4fa3a50>]"
      ]
     },
     "execution_count": 11,
     "metadata": {},
     "output_type": "execute_result"
    },
    {
     "data": {
      "image/png": "[encoded data removed]",
      "text/plain": [
       "<Figure size 432x288 with 1 Axes>"
      ]
     },
     "metadata": {
      "needs_background": "light"
     },
     "output_type": "display_data"
    }
   ],
   "source": [
    "df = d['0'].copy()\n",
    "listform = df.to_numpy().tolist()\n",
    "diff = []\n",
    "for i in range(len(listform)):\n",
    "    for j in range(i+1,len(listform[0])):\n",
    "        diff.append(listform[i][j]- listform[j][i])\n",
    "plt.plot(diff)"
   ]
  },
  {
   "cell_type": "code",
   "execution_count": 12,
   "id": "e7ca17f9",
   "metadata": {},
   "outputs": [],
   "source": [
    "new_df = []\n",
    "for i in range(len(listform)):\n",
    "    new = []\n",
    "    for j in range(len(listform[i])):\n",
    "        new.append((listform[i][j]+ listform[j][i])/2)\n",
    "    new_df.append(new)"
   ]
  },
  {
   "cell_type": "code",
   "execution_count": 13,
   "id": "d9337cd5",
   "metadata": {},
   "outputs": [
    {
     "data": {
      "text/plain": [
       "[<matplotlib.lines.Line2D at 0x7f9ad4f50190>]"
      ]
     },
     "execution_count": 13,
     "metadata": {},
     "output_type": "execute_result"
    },
    {
     "data": {
      "image/png": "[encoded data removed]",
      "text/plain": [
       "<Figure size 432x288 with 1 Axes>"
      ]
     },
     "metadata": {
      "needs_background": "light"
     },
     "output_type": "display_data"
    }
   ],
   "source": [
    "diff = []\n",
    "listform = new_df\n",
    "for i in range(len(listform)):\n",
    "    for j in range(i+1,len(listform[0])):\n",
    "        diff.append(listform[i][j]- listform[j][i])\n",
    "plt.plot(diff)"
   ]
  },
  {
   "cell_type": "markdown",
   "id": "aea483b1",
   "metadata": {},
   "source": [
    "Great, it works! Now write it into a function."
   ]
  },
  {
   "cell_type": "code",
   "execution_count": 16,
   "id": "d80ef22e",
   "metadata": {},
   "outputs": [],
   "source": [
    "def even_it_out(df):\n",
    "    \n",
    "    listform = df.to_numpy().tolist()\n",
    "    \n",
    "    new_df = []\n",
    "    for i in range(len(listform)):\n",
    "        new = []\n",
    "        for j in range(len(listform[i])):\n",
    "            new.append((listform[i][j]+ listform[j][i])/2)\n",
    "        new_df.append(new)\n",
    "    \n",
    "    return pd.DataFrame(new_df)"
   ]
  },
  {
   "cell_type": "code",
   "execution_count": 17,
   "id": "a214a1dd",
   "metadata": {},
   "outputs": [],
   "source": [
    "for i in range(len(stoc)):\n",
    "    dp = pd.read_csv(\"/Volumes/HardDrive/New_Workflow/stochastic_53/\"+stoc[i], header = None)\n",
    "    \n",
    "    df = dp.copy()\n",
    "    \n",
    "    new_df = even_it_out(df)\n",
    "    \n",
    "    new_df.to_csv(\"/Volumes/HardDrive/New_Workflow/symm_stoc_53/\"+stoc[i],index = False, header = False)"
   ]
  },
  {
   "cell_type": "code",
   "execution_count": null,
   "id": "b2f8ba62",
   "metadata": {},
   "outputs": [],
   "source": []
  }
 ],
 "metadata": {
  "kernelspec": {
   "display_name": "Python 3 (ipykernel)",
   "language": "python",
   "name": "python3"
  },
  "language_info": {
   "codemirror_mode": {
    "name": "ipython",
    "version": 3
   },
   "file_extension": ".py",
   "mimetype": "text/x-python",
   "name": "python",
   "nbconvert_exporter": "python",
   "pygments_lexer": "ipython3",
   "version": "3.7.4"
  }
 },
 "nbformat": 4,
 "nbformat_minor": 5
}
