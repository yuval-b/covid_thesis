{
 "cells": [
  {
   "cell_type": "markdown",
   "metadata": {},
   "source": [
    "## Estimating C"
   ]
  },
  {
   "cell_type": "markdown",
   "metadata": {},
   "source": [
    "Notebook dedicated to trying to work out a reasonable estimate for the constant C, which is what the flow from I to j at t gets divided by."
   ]
  },
  {
   "cell_type": "code",
   "execution_count": 47,
   "metadata": {},
   "outputs": [],
   "source": [
    "# Import those librariess\n",
    "import os\n",
    "import pandas as pd\n",
    "import math\n",
    "import numpy as np\n",
    "import matplotlib.pyplot as plt\n",
    "import collections"
   ]
  },
  {
   "cell_type": "code",
   "execution_count": 3,
   "metadata": {},
   "outputs": [],
   "source": [
    "# Read in the unfiltered dataframes\n",
    "wa_297 = os.listdir(\"/Volumes/HardDrive/WA_297/\")[:-1]\n",
    "\n",
    "d = {}\n",
    "for i in range(len(wa_297)):\n",
    "    d[str(i)] = pd.read_csv(\"/Volumes/HardDrive/WA_297/\"+wa_297[i], header = None, sep ='\\t')"
   ]
  },
  {
   "cell_type": "code",
   "execution_count": 4,
   "metadata": {
    "scrolled": true
   },
   "outputs": [
    {
     "name": "stdout",
     "output_type": "stream",
     "text": [
      "0\n",
      "1\n",
      "2\n",
      "3\n",
      "4\n",
      "5\n",
      "6\n",
      "7\n",
      "8\n",
      "9\n",
      "10\n",
      "11\n",
      "12\n",
      "13\n",
      "14\n",
      "15\n",
      "16\n",
      "17\n",
      "18\n",
      "19\n",
      "20\n",
      "21\n",
      "22\n",
      "23\n",
      "24\n",
      "25\n",
      "26\n",
      "27\n",
      "28\n",
      "29\n",
      "-16.4466 -8.42\n"
     ]
    }
   ],
   "source": [
    "#Find minimum entry in all the ORIGINAL GOOGLE datasets\n",
    "# Takes a while to run, so if you don't want to run it again- the answer is -16.466 (ie raise e to the power of that)\n",
    "# Similarly, the max is -8.42.\n",
    "minn =1\n",
    "maxx = 0\n",
    "allvals = []\n",
    "# Iterate over all dataframes\n",
    "for i in range(len(wa_297)-40):\n",
    "    print(i)\n",
    "    df = pd.read_csv(\"/Volumes/HardDrive/weekbyweek/agg_epi_mobility_covid_\"+wa_297[i][7:], header = None, sep =',')\n",
    "    #Take column with the flows\n",
    "    data = df[7]\n",
    "    \n",
    "    # Generate a list of all values (for later)\n",
    "    for i in data:\n",
    "        allvals.append(math.exp(i))\n",
    "    \n",
    "    # Find the min and max, compare to our current ones.\n",
    "    mi = min(data)\n",
    "    mx = min(-1*data)\n",
    "    if mi < minn:\n",
    "        minn = mi\n",
    "    if mx > maxx:\n",
    "        maxx = mx\n",
    "        \n",
    "print(minn,-maxx)"
   ]
  },
  {
   "cell_type": "code",
   "execution_count": 5,
   "metadata": {},
   "outputs": [
    {
     "name": "stdout",
     "output_type": "stream",
     "text": [
      "-16.4466 -8.42\n",
      "7.199997969098847e-08 0.00022041465283014714\n"
     ]
    }
   ],
   "source": [
    "# Print those mins and maxes\n",
    "print(minn,-maxx)\n",
    "print(math.exp(minn),math.exp(-maxx))"
   ]
  },
  {
   "cell_type": "code",
   "execution_count": 6,
   "metadata": {},
   "outputs": [],
   "source": [
    "minn = math.exp(minn)\n",
    "maxx = math.exp(-maxx)"
   ]
  },
  {
   "cell_type": "code",
   "execution_count": 7,
   "metadata": {},
   "outputs": [],
   "source": [
    "keepacopy = allvals"
   ]
  },
  {
   "cell_type": "code",
   "execution_count": 9,
   "metadata": {},
   "outputs": [],
   "source": [
    "smallest_allvals= []\n",
    "for i in allvals:\n",
    "    if i < 4*minn:\n",
    "        smallest_allvals.append(i)"
   ]
  },
  {
   "cell_type": "code",
   "execution_count": 10,
   "metadata": {},
   "outputs": [
    {
     "data": {
      "text/plain": [
       "119358001"
      ]
     },
     "execution_count": 10,
     "metadata": {},
     "output_type": "execute_result"
    }
   ],
   "source": [
    "len(smallest_allvals)"
   ]
  },
  {
   "cell_type": "code",
   "execution_count": 11,
   "metadata": {},
   "outputs": [
    {
     "data": {
      "text/plain": [
       "(array([   77.,  6751., 14133., 12440., 10718.,  9071.,  8374.,  7255.,\n",
       "         6568.,  5739.,  6342.,  4779.,  4311.,  3964.,  3540.,  3405.,\n",
       "         3115.,  2937.,  2704.,  3135.]),\n",
       " array([8.20038204e-08, 9.22032580e-08, 1.02402696e-07, 1.12602133e-07,\n",
       "        1.22801571e-07, 1.33001008e-07, 1.43200446e-07, 1.53399883e-07,\n",
       "        1.63599321e-07, 1.73798758e-07, 1.83998196e-07, 1.94197634e-07,\n",
       "        2.04397071e-07, 2.14596509e-07, 2.24795946e-07, 2.34995384e-07,\n",
       "        2.45194821e-07, 2.55394259e-07, 2.65593696e-07, 2.75793134e-07,\n",
       "        2.85992572e-07]),\n",
       " <a list of 20 Patch objects>)"
      ]
     },
     "execution_count": 11,
     "metadata": {},
     "output_type": "execute_result"
    },
    {
     "data": {
      "image/png": "[encoded data removed]",
      "text/plain": [
       "<Figure size 432x288 with 1 Axes>"
      ]
     },
     "metadata": {
      "needs_background": "light"
     },
     "output_type": "display_data"
    }
   ],
   "source": [
    "# Only takes a fraction of the entries but still gives a pretty good indication of the behaviour\n",
    "plt.hist(x=smallest_allvals[:int(len(smallest_allvals)/1000)], bins=20)"
   ]
  },
  {
   "cell_type": "markdown",
   "metadata": {},
   "source": [
    "Since we can see that there's a steep cutoff close to the minimum, we can conclude that Google removes the data which after the addition of noise is still less than 100 people. Hence we should be able to take the minimum value found, and divide 100 by it to get a pretty good approximation of C."
   ]
  },
  {
   "cell_type": "code",
   "execution_count": 12,
   "metadata": {},
   "outputs": [
    {
     "name": "stdout",
     "output_type": "stream",
     "text": [
      "1388889280.652339\n"
     ]
    }
   ],
   "source": [
    "C = 100/minn\n",
    "print(C)"
   ]
  },
  {
   "cell_type": "markdown",
   "metadata": {},
   "source": [
    "This is our estimate for C. Let's see if we can get what the biggest flow in our 297 dataset is in a given week, and see if it makes logical sense for C to be this size."
   ]
  },
  {
   "cell_type": "code",
   "execution_count": 12,
   "metadata": {},
   "outputs": [
    {
     "name": "stdout",
     "output_type": "stream",
     "text": [
      "0.00021799687136366268\n"
     ]
    }
   ],
   "source": [
    "# This takes in the adjacency matrices between towns and finds the biggest relative flow between two towns\n",
    "# Again, takes a while to run, gives answer: 0.00021799687136366268\n",
    "k =0\n",
    "for i in range(len(wa_297)):\n",
    "    data = d[str(i)]\n",
    "    for v in data:\n",
    "        l = list(data[v])\n",
    "        for i in l:\n",
    "            if i > k:\n",
    "                k = i\n",
    "print(k)"
   ]
  },
  {
   "cell_type": "code",
   "execution_count": 13,
   "metadata": {},
   "outputs": [
    {
     "data": {
      "text/plain": [
       "302773.5178527379"
      ]
     },
     "execution_count": 13,
     "metadata": {},
     "output_type": "execute_result"
    }
   ],
   "source": [
    "C*k"
   ]
  },
  {
   "cell_type": "markdown",
   "metadata": {},
   "source": [
    "## Further Adjustments"
   ]
  },
  {
   "cell_type": "code",
   "execution_count": 40,
   "metadata": {},
   "outputs": [],
   "source": [
    "minn = []\n",
    "for i in range(3000):\n",
    "    minn.append([-16.4466+i/10000,0])"
   ]
  },
  {
   "cell_type": "code",
   "execution_count": 41,
   "metadata": {},
   "outputs": [
    {
     "data": {
      "text/plain": [
       "[-16.1467, 0]"
      ]
     },
     "execution_count": 41,
     "metadata": {},
     "output_type": "execute_result"
    }
   ],
   "source": [
    "minn[-1]"
   ]
  },
  {
   "cell_type": "code",
   "execution_count": 42,
   "metadata": {},
   "outputs": [],
   "source": [
    "vals = {}"
   ]
  },
  {
   "cell_type": "code",
   "execution_count": 52,
   "metadata": {},
   "outputs": [
    {
     "name": "stdout",
     "output_type": "stream",
     "text": [
      "0\n",
      "1\n",
      "2\n",
      "3\n",
      "4\n",
      "5\n",
      "6\n",
      "7\n",
      "8\n",
      "9\n"
     ]
    }
   ],
   "source": [
    "master = {}\n",
    "# Iterate over all dataframes\n",
    "for i in range(10):\n",
    "    print(i)\n",
    "    df = pd.read_csv(\"/Volumes/HardDrive/weekbyweek/agg_epi_mobility_covid_\"+wa_297[i][7:], header = None, sep =',')\n",
    "    #Take column with the flows\n",
    "    data = list(df[7])\n",
    "    \n",
    "    # Generate a list of all values (for later)\n",
    "    master[i] = dict(collections.Counter(data))"
   ]
  },
  {
   "cell_type": "code",
   "execution_count": 53,
   "metadata": {},
   "outputs": [
    {
     "data": {
      "text/plain": [
       "13227"
      ]
     },
     "execution_count": 53,
     "metadata": {},
     "output_type": "execute_result"
    }
   ],
   "source": [
    "len(occ)"
   ]
  },
  {
   "cell_type": "code",
   "execution_count": 56,
   "metadata": {},
   "outputs": [],
   "source": [
    "occ = {}\n",
    "for i in range(10):\n",
    "    for j in list(master[i].keys()):\n",
    "        occ[j] = occ.get(j,0) + master[i].get(j,0)"
   ]
  },
  {
   "cell_type": "code",
   "execution_count": 57,
   "metadata": {},
   "outputs": [],
   "source": [
    "od = collections.OrderedDict(sorted(occ.items()))"
   ]
  },
  {
   "cell_type": "code",
   "execution_count": 65,
   "metadata": {},
   "outputs": [],
   "source": [
    "tot = [list(od.keys()),list(od.values())]"
   ]
  },
  {
   "cell_type": "code",
   "execution_count": 73,
   "metadata": {},
   "outputs": [
    {
     "data": {
      "text/plain": [
       "584137"
      ]
     },
     "execution_count": 73,
     "metadata": {},
     "output_type": "execute_result"
    }
   ],
   "source": [
    "max(tot[1])"
   ]
  },
  {
   "cell_type": "code",
   "execution_count": 74,
   "metadata": {},
   "outputs": [
    {
     "name": "stdout",
     "output_type": "stream",
     "text": [
      "29\n"
     ]
    }
   ],
   "source": [
    "for i in range(len(tot[1])):\n",
    "    if tot[1][i] == 584137:\n",
    "        print(i)"
   ]
  },
  {
   "cell_type": "code",
   "execution_count": 75,
   "metadata": {},
   "outputs": [
    {
     "data": {
      "text/plain": [
       "-16.0598"
      ]
     },
     "execution_count": 75,
     "metadata": {},
     "output_type": "execute_result"
    }
   ],
   "source": [
    "tot[0][29]"
   ]
  },
  {
   "cell_type": "code",
   "execution_count": 76,
   "metadata": {},
   "outputs": [
    {
     "data": {
      "text/plain": [
       "943370997.6634355"
      ]
     },
     "execution_count": 76,
     "metadata": {},
     "output_type": "execute_result"
    }
   ],
   "source": [
    "100/math.exp(-16.0598)"
   ]
  },
  {
   "cell_type": "code",
   "execution_count": 72,
   "metadata": {},
   "outputs": [
    {
     "data": {
      "text/plain": [
       "(-16.5, -15)"
      ]
     },
     "execution_count": 72,
     "metadata": {},
     "output_type": "execute_result"
    },
    {
     "data": {
      "image/png": "[encoded data removed]",
      "text/plain": [
       "<Figure size 864x576 with 1 Axes>"
      ]
     },
     "metadata": {
      "needs_background": "light"
     },
     "output_type": "display_data"
    }
   ],
   "source": [
    "plt.figure(figsize = (12,8))\n",
    "plt.plot(tot[0],tot[1])\n",
    "plt.xlim([-16.5,-15])"
   ]
  },
  {
   "cell_type": "code",
   "execution_count": 17,
   "metadata": {},
   "outputs": [
    {
     "data": {
      "text/plain": [
       "[[-16.4466, 0],\n",
       " [-16.4465, 0],\n",
       " [-16.4464, 0],\n",
       " [-16.4463, 0],\n",
       " [-16.4462, 0],\n",
       " [-16.4461, 0],\n",
       " [-16.446, 0],\n",
       " [-16.4459, 0],\n",
       " [-16.4458, 0],\n",
       " [-16.4457, 0],\n",
       " [-16.4456, 0],\n",
       " [-16.4455, 0],\n",
       " [-16.4454, 0],\n",
       " [-16.4453, 0],\n",
       " [-16.4452, 0],\n",
       " [-16.4451, 0],\n",
       " [-16.445, 0],\n",
       " [-16.4449, 0],\n",
       " [-16.4448, 0],\n",
       " [-16.4447, 0],\n",
       " [-16.4446, 0],\n",
       " [-16.4445, 0],\n",
       " [-16.4444, 0],\n",
       " [-16.4443, 0],\n",
       " [-16.4442, 0],\n",
       " [-16.4441, 0],\n",
       " [-16.444, 0],\n",
       " [-16.4439, 0],\n",
       " [-16.4438, 0],\n",
       " [-16.4437, 0]]"
      ]
     },
     "execution_count": 17,
     "metadata": {},
     "output_type": "execute_result"
    }
   ],
   "source": [
    "minn"
   ]
  },
  {
   "cell_type": "code",
   "execution_count": 28,
   "metadata": {},
   "outputs": [
    {
     "name": "stdout",
     "output_type": "stream",
     "text": [
      "0\n",
      "1\n",
      "2\n",
      "3\n",
      "4\n",
      "5\n",
      "6\n",
      "7\n",
      "8\n",
      "9\n",
      "10\n",
      "11\n",
      "12\n",
      "13\n",
      "14\n",
      "15\n",
      "16\n",
      "17\n",
      "18\n",
      "19\n",
      "20\n",
      "21\n",
      "22\n",
      "23\n",
      "24\n",
      "25\n",
      "26\n",
      "27\n",
      "28\n",
      "29\n",
      "-16.4466 -8.42\n"
     ]
    }
   ],
   "source": [
    "#Find minimum entry in all the ORIGINAL GOOGLE datasets\n",
    "# Takes a while to run, so if you don't want to run it again- the answer is -16.466 (ie raise e to the power of that)\n",
    "# Similarly, the max is -8.42.\n",
    "minn =1\n",
    "maxx = 0\n",
    "allvals = []\n",
    "# Iterate over all dataframes\n",
    "for i in range(len(wa_297)-40):\n",
    "    print(i)\n",
    "    df = pd.read_csv(\"/Volumes/HardDrive/weekbyweek/agg_epi_mobility_covid_\"+wa_297[i][7:], header = None, sep =',')\n",
    "    #Take column with the flows\n",
    "    data = df[7]\n",
    "    \n",
    "    # Generate a list of all values (for later)\n",
    "    for i in data:\n",
    "        allvals.append(math.exp(i))\n",
    "    \n",
    "    # Find the min and max, compare to our current ones.\n",
    "    mi = min(data)\n",
    "    mx = min(-1*data)\n",
    "    if mi < minn:\n",
    "        minn = mi\n",
    "    if mx > maxx:\n",
    "        maxx = mx\n",
    "        \n",
    "print(minn,-maxx)"
   ]
  },
  {
   "cell_type": "code",
   "execution_count": 32,
   "metadata": {},
   "outputs": [
    {
     "name": "stdout",
     "output_type": "stream",
     "text": [
      "-16.4466 -8.42\n",
      "7.199997969098847e-08 0.00022041465283014714\n"
     ]
    }
   ],
   "source": [
    "# Print those mins and maxes\n",
    "print(minn,-maxx)\n",
    "print(math.exp(minn),math.exp(-maxx))"
   ]
  },
  {
   "cell_type": "code",
   "execution_count": 36,
   "metadata": {},
   "outputs": [],
   "source": [
    "smallest_allvals= []\n",
    "for i in allvals:\n",
    "    if i < 2*minn:\n",
    "        smallest_allvals.append(i)"
   ]
  },
  {
   "cell_type": "code",
   "execution_count": 37,
   "metadata": {},
   "outputs": [
    {
     "data": {
      "text/plain": [
       "[]"
      ]
     },
     "execution_count": 37,
     "metadata": {},
     "output_type": "execute_result"
    }
   ],
   "source": [
    "smallest_allvals"
   ]
  },
  {
   "cell_type": "code",
   "execution_count": 35,
   "metadata": {},
   "outputs": [
    {
     "data": {
      "text/plain": [
       "(array([0., 0., 0., 0., 0., 0., 0., 0., 0., 0., 0., 0., 0., 0., 0., 0., 0.,\n",
       "        0., 0., 0.]),\n",
       " array([0.  , 0.05, 0.1 , 0.15, 0.2 , 0.25, 0.3 , 0.35, 0.4 , 0.45, 0.5 ,\n",
       "        0.55, 0.6 , 0.65, 0.7 , 0.75, 0.8 , 0.85, 0.9 , 0.95, 1.  ]),\n",
       " <a list of 20 Patch objects>)"
      ]
     },
     "execution_count": 35,
     "metadata": {},
     "output_type": "execute_result"
    },
    {
     "data": {
      "image/png": "[encoded data removed]",
      "text/plain": [
       "<Figure size 432x288 with 1 Axes>"
      ]
     },
     "metadata": {
      "needs_background": "light"
     },
     "output_type": "display_data"
    }
   ],
   "source": [
    "# Only takes a fraction of the entries but still gives a pretty good indication of the behaviour\n",
    "plt.hist(x=smallest_allvals, bins=20)"
   ]
  },
  {
   "cell_type": "code",
   "execution_count": null,
   "metadata": {},
   "outputs": [],
   "source": []
  },
  {
   "cell_type": "code",
   "execution_count": null,
   "metadata": {},
   "outputs": [],
   "source": []
  },
  {
   "cell_type": "code",
   "execution_count": null,
   "metadata": {},
   "outputs": [],
   "source": []
  },
  {
   "cell_type": "code",
   "execution_count": null,
   "metadata": {},
   "outputs": [],
   "source": []
  },
  {
   "cell_type": "code",
   "execution_count": null,
   "metadata": {},
   "outputs": [],
   "source": []
  },
  {
   "cell_type": "code",
   "execution_count": null,
   "metadata": {},
   "outputs": [],
   "source": [
    "plt.hist(x=allvals[:int(len(allvals)/100)], bins=1000,alpha=0.7, rwidth=0.85)"
   ]
  },
  {
   "cell_type": "code",
   "execution_count": null,
   "metadata": {},
   "outputs": [],
   "source": [
    "smallest_allvals = []\n",
    "for i in allvals:\n",
    "    if i < 10**(-6):\n",
    "        small_allvals.append(i)"
   ]
  },
  {
   "cell_type": "code",
   "execution_count": null,
   "metadata": {},
   "outputs": [],
   "source": [
    "hist, bin_edges = np.histogram(allvals[:int(len(allvals)/10000)],range = (minn,maxx/2), bins = 100)"
   ]
  },
  {
   "cell_type": "code",
   "execution_count": null,
   "metadata": {
    "scrolled": true
   },
   "outputs": [],
   "source": [
    "vals = []\n",
    "for i in range(2000):\n",
    "    print(i)\n",
    "    binn_low = (5*10**-8)*(i) +minn\n",
    "    binn_up = (5*10**-8)*(i+1) + minn\n",
    "    vals.append([(binn_low+binn_up)/2,0])\n",
    "    for j in range(len(allvals)):\n",
    "        if (allvals[j] >= binn_low) & (allvals[j] < binn_up):\n",
    "                vals[-1][1] += 1\n",
    "                del allvals[j]"
   ]
  }
 ],
 "metadata": {
  "@webio": {
   "lastCommId": null,
   "lastKernelId": null
  },
  "kernelspec": {
   "display_name": "Python 3",
   "language": "python",
   "name": "python3"
  },
  "language_info": {
   "codemirror_mode": {
    "name": "ipython",
    "version": 3
   },
   "file_extension": ".py",
   "mimetype": "text/x-python",
   "name": "python",
   "nbconvert_exporter": "python",
   "pygments_lexer": "ipython3",
   "version": "3.7.4"
  }
 },
 "nbformat": 4,
 "nbformat_minor": 2
}
