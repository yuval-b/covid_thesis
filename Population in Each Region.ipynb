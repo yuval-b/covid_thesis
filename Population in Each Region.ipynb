{
 "cells": [
  {
   "cell_type": "code",
   "execution_count": 1,
   "id": "2730f86f",
   "metadata": {},
   "outputs": [],
   "source": [
    "import pandas as pd\n",
    "import matplotlib.pyplot as plt\n",
    "from collections import Counter\n",
    "import os\n",
    "import numpy as np\n",
    "import csv"
   ]
  },
  {
   "cell_type": "code",
   "execution_count": 2,
   "id": "e8167957",
   "metadata": {},
   "outputs": [],
   "source": [
    "waloc = pd.read_csv('/Users/Yuval/Desktop/Thesis/all-wa-pos_withregions.csv')#use this for all 297 towns\n",
    "waloc = waloc.loc[waloc['Population'] >0]\n",
    "# When doing big towns\n",
    "waloc = waloc[:58]\n",
    "\n",
    "# When ignoring sattelite towns\n",
    "waloc = waloc.loc[(waloc['City / Town'] != 'Yanchep') & (waloc['City / Town'] != 'Bullsbrook') &\n",
    "                  (waloc['City / Town'] != 'Mundijong') & (waloc['City / Town'] != 'Serpentine') &\n",
    "                 (waloc['City / Town'] != 'Two Rocks') ]\n",
    "waloc = waloc.reset_index()\n",
    "waloc = waloc.drop(columns = ['index'])\n",
    "\n",
    "# When also ignoring rural sattelite towns\n",
    "waloc = waloc.loc[(waloc['City / Town'] != 'Pinjarra') & (waloc['City / Town'] != 'Drummond Cove') &\n",
    "                  (waloc['City / Town'] != 'Bridgetown') & (waloc['City / Town'] != 'Binningup') &\n",
    "                 (waloc['City / Town'] != 'Dampier') ]\n",
    "waloc = waloc.reset_index()\n",
    "waloc = waloc.drop(columns = ['index'])\n",
    "\n",
    "# When also ignoring 0 flow towns\n",
    "waloc = waloc.loc[(waloc['City / Town'] != 'Kununurra') & (waloc['City / Town'] != 'Derby') &\n",
    "                  (waloc['City / Town'] != 'Boddington-Ranford') & (waloc['City / Town'] != 'Wyndham')]\n",
    "waloc = waloc.reset_index()\n",
    "waloc = waloc.drop(columns = ['index'])"
   ]
  },
  {
   "cell_type": "code",
   "execution_count": 3,
   "id": "0d15ea57",
   "metadata": {},
   "outputs": [],
   "source": [
    "regns = set(list(waloc['Region']))"
   ]
  },
  {
   "cell_type": "code",
   "execution_count": 4,
   "id": "6baa5bbe",
   "metadata": {},
   "outputs": [],
   "source": [
    "regn_pop = {}\n",
    "for i in regns:\n",
    "    wa_regn = waloc.loc[waloc['Region'] == i]\n",
    "    pop = sum(list(wa_regn['Population']))\n",
    "    regn_pop[i] = pop"
   ]
  },
  {
   "cell_type": "code",
   "execution_count": 5,
   "id": "a6968693",
   "metadata": {},
   "outputs": [],
   "source": [
    "regn_pop = {k: v for k, v in sorted(regn_pop.items(), key=lambda item: item[1], reverse = True)}"
   ]
  },
  {
   "cell_type": "code",
   "execution_count": 6,
   "id": "7f1016d7",
   "metadata": {},
   "outputs": [
    {
     "data": {
      "text/plain": [
       "<BarContainer object of 10 artists>"
      ]
     },
     "execution_count": 6,
     "metadata": {},
     "output_type": "execute_result"
    },
    {
     "data": {
      "image/png": "[encoded data removed]",
      "text/plain": [
       "<Figure size 1440x576 with 1 Axes>"
      ]
     },
     "metadata": {
      "needs_background": "light"
     },
     "output_type": "display_data"
    }
   ],
   "source": [
    "plt.figure(figsize = (20,8))\n",
    "plt.bar(regn_pop.keys(), regn_pop.values(), color='g')"
   ]
  },
  {
   "cell_type": "code",
   "execution_count": 24,
   "id": "47f440b3",
   "metadata": {},
   "outputs": [
    {
     "name": "stdout",
     "output_type": "stream",
     "text": [
      "Perth 1874578\n",
      "South West 130200\n",
      "Peel 83210\n",
      "Goldfields-Esperance 42085\n",
      "Great Southern 40406\n",
      "Pilbara 40110\n",
      "Mid West 36113\n",
      "Wheatbelt 20366\n",
      "Kimberley 16671\n",
      "Gascoyne 6912\n"
     ]
    }
   ],
   "source": [
    "for i in regn_pop:\n",
    "    print(i, regn_pop[i])"
   ]
  },
  {
   "cell_type": "code",
   "execution_count": 7,
   "id": "5274cd09",
   "metadata": {},
   "outputs": [
    {
     "data": {
      "text/plain": [
       "0.9115260246977824"
      ]
     },
     "execution_count": 7,
     "metadata": {},
     "output_type": "execute_result"
    }
   ],
   "source": [
    "(1874578 + 130200 + 83210)/sum(regn_pop.values())"
   ]
  },
  {
   "cell_type": "code",
   "execution_count": null,
   "id": "17e41555",
   "metadata": {},
   "outputs": [],
   "source": []
  }
 ],
 "metadata": {
  "kernelspec": {
   "display_name": "Python 3 (ipykernel)",
   "language": "python",
   "name": "python3"
  },
  "language_info": {
   "codemirror_mode": {
    "name": "ipython",
    "version": 3
   },
   "file_extension": ".py",
   "mimetype": "text/x-python",
   "name": "python",
   "nbconvert_exporter": "python",
   "pygments_lexer": "ipython3",
   "version": "3.7.4"
  }
 },
 "nbformat": 4,
 "nbformat_minor": 5
}
