{
 "cells": [
  {
   "cell_type": "code",
   "execution_count": 1,
   "id": "a868a7e2",
   "metadata": {},
   "outputs": [],
   "source": [
    "# Import those libraries\n",
    "import math\n",
    "import numpy as np\n",
    "import matplotlib.pyplot as plt\n",
    "import networkx as nx\n",
    "import os\n",
    "from scipy.integrate import odeint\n",
    "import matplotlib.pyplot as plt\n",
    "from numpy import genfromtxt\n",
    "import matplotlib.image as mpimg\n",
    "import pandas as pd\n",
    "import scipy\n",
    "import time\n",
    "from operator import add\n",
    "from scipy.stats import binom\n",
    "from numpy import random\n",
    "from joblib import Parallel, delayed\n",
    "import collections\n",
    "import csv"
   ]
  },
  {
   "cell_type": "code",
   "execution_count": 2,
   "id": "e8a5cea5",
   "metadata": {},
   "outputs": [],
   "source": [
    "waloc = pd.read_csv('/Users/Yuval/Desktop/Thesis/all-wa-pos.csv')#use this for all 297 towns\n",
    "waloc = waloc.loc[waloc['Population'] >0]\n",
    "# When doing big towns\n",
    "waloc = waloc[:58]\n",
    "\n",
    "# When ignoring sattelite towns\n",
    "waloc = waloc.loc[(waloc['City / Town'] != 'Yanchep') & (waloc['City / Town'] != 'Bullsbrook') &\n",
    "                  (waloc['City / Town'] != 'Mundijong') & (waloc['City / Town'] != 'Serpentine') &\n",
    "                 (waloc['City / Town'] != 'Two Rocks') ]\n",
    "waloc = waloc.reset_index()\n",
    "waloc = waloc.drop(columns = ['index'])\n",
    "\n",
    "# When also ignoring rural sattelite towns\n",
    "waloc = waloc.loc[(waloc['City / Town'] != 'Pinjarra') & (waloc['City / Town'] != 'Drummond Cove') &\n",
    "                  (waloc['City / Town'] != 'Bridgetown') & (waloc['City / Town'] != 'Binningup') &\n",
    "                 (waloc['City / Town'] != 'Dampier') ]\n",
    "waloc = waloc.reset_index()\n",
    "waloc = waloc.drop(columns = ['index'])\n",
    "\n",
    "# When also ignoring 0 flow towns\n",
    "waloc = waloc.loc[(waloc['City / Town'] != 'Kununurra') & (waloc['City / Town'] != 'Derby') &\n",
    "                  (waloc['City / Town'] != 'Boddington-Ranford') & (waloc['City / Town'] != 'Wyndham')]\n",
    "waloc = waloc.reset_index()\n",
    "waloc = waloc.drop(columns = ['index'])"
   ]
  },
  {
   "cell_type": "code",
   "execution_count": 3,
   "id": "f60de329",
   "metadata": {},
   "outputs": [],
   "source": [
    "## WA Data Processing\n",
    "wa_data = pd.read_csv('/Users/Yuval/Desktop/Thesis/wa_health.csv')\n",
    "\n",
    "# Daily cases\n",
    "wa_totals = list(wa_data.iloc[0])[1:]\n",
    "wa_totals = [i - 1134 for i in wa_totals]\n",
    "wa_infs = [0]\n",
    "for i in range(1,len(wa_totals)):\n",
    "    wa_infs.append(wa_totals[i]-wa_totals[i-1])\n",
    "    \n",
    "total_popn = sum(list(waloc['Population']))\n",
    "\n",
    "# WA's population is 2491996 people over 5\n",
    "# https://www.health.gov.au/sites/default/files/documents/2022/02/covid-19-vaccine-rollout-update-1-february-2022.pdf\n",
    "# There are 377018 people between 5-15, so normalise the third dose based on that\n",
    "\n",
    "first = list(wa_data.loc[wa_data['Source'] == 'COVID-live First Doses 5+'].iloc[0])[1:]\n",
    "first = [round(i/2491996*total_popn) for i in first]\n",
    "first_change = []\n",
    "for f in range(len(first)-1):\n",
    "    first_change.append(first[f+1] - first[f])\n",
    "\n",
    "second = list(wa_data.loc[wa_data['Source'] == 'COVID-live Second Doses 5+'].iloc[0])[1:]\n",
    "second = [round(i/2491996*total_popn) for i in second]\n",
    "second_change = []\n",
    "for f in range(len(second)-1):\n",
    "    second_change.append(second[f+1] - second[f])\n",
    "\n",
    "third = list(wa_data.loc[wa_data['Source'] == 'COVID-live Booster Doses 16+'].iloc[0])[1:]\n",
    "third = [round(i*2491996/(2491996-377018)) for i in third]\n",
    "third = [round(i/2491996*total_popn) for i in third]\n",
    "third_change = []\n",
    "for f in range(len(third)-1):\n",
    "    third_change.append(third[f+1] - third[f])\n",
    "\n",
    "uptakes = [first_change, second_change, third_change]"
   ]
  },
  {
   "cell_type": "code",
   "execution_count": 4,
   "id": "ce561a5e",
   "metadata": {},
   "outputs": [
    {
     "name": "stdout",
     "output_type": "stream",
     "text": [
      "0 103\n",
      "0 110\n"
     ]
    }
   ],
   "source": [
    "# Make it so there are no negatives (there were only two when I checked)\n",
    "for i in range(len(uptakes)):\n",
    "    for j in range(len(uptakes[i])):\n",
    "        if uptakes[i][j] < 0:\n",
    "            print(i,j)\n",
    "            uptakes[i][j] = 0"
   ]
  },
  {
   "cell_type": "code",
   "execution_count": 5,
   "id": "3fde2830",
   "metadata": {},
   "outputs": [
    {
     "data": {
      "text/plain": [
       "[<matplotlib.lines.Line2D at 0x7fe65837da90>]"
      ]
     },
     "execution_count": 5,
     "metadata": {},
     "output_type": "execute_result"
    },
    {
     "data": {
      "image/png": "[encoded data removed]",
      "text/plain": [
       "<Figure size 432x288 with 1 Axes>"
      ]
     },
     "metadata": {
      "needs_background": "light"
     },
     "output_type": "display_data"
    }
   ],
   "source": [
    "plt.plot(first)\n",
    "plt.plot(second)\n",
    "plt.plot(third)"
   ]
  },
  {
   "cell_type": "code",
   "execution_count": 11,
   "id": "e1737768",
   "metadata": {},
   "outputs": [
    {
     "name": "stdout",
     "output_type": "stream",
     "text": [
      "First to second 47.129629629629626 Days\n",
      "Second to third 97.03571428571429 Days\n"
     ]
    }
   ],
   "source": [
    "diffs = []\n",
    "for i in range(len(first)):\n",
    "    for j in range(len(second)):\n",
    "        if first[i] < second[j]:\n",
    "            diffs.append(j-i)\n",
    "            break\n",
    "print('First to second', np.mean(diffs), 'Days')\n",
    "\n",
    "diffs = []\n",
    "for i in range(len(second)):\n",
    "    for j in range(len(third)):\n",
    "        if second[i] < third[j]:\n",
    "            diffs.append(j-i)\n",
    "            break\n",
    "print('Second to third', np.mean(diffs), 'Days')"
   ]
  },
  {
   "cell_type": "code",
   "execution_count": null,
   "id": "2afb3a01",
   "metadata": {},
   "outputs": [],
   "source": []
  },
  {
   "cell_type": "code",
   "execution_count": null,
   "id": "e07d7e43",
   "metadata": {},
   "outputs": [],
   "source": []
  },
  {
   "cell_type": "code",
   "execution_count": null,
   "id": "2f2afc36",
   "metadata": {},
   "outputs": [],
   "source": [
    "# Same for Adelaide"
   ]
  },
  {
   "cell_type": "code",
   "execution_count": 15,
   "id": "fec066f4",
   "metadata": {},
   "outputs": [],
   "source": [
    "sa_vacc = pd.read_csv('/Users/Yuval/Desktop/Thesis/SA_Health_modified.csv')\n",
    "# South Australia's population is 1.77 million\n",
    "# 86% of the population is over the age of 12 = 1.5222 million\n",
    "# 81.3% of the population is over the age of 16 = 1.4337 million\n",
    "# Hence convert these percentages to numbers of people\n",
    "sa_vacc.loc[sa_vacc['Type'] == 'First Dose (12+)'] = ['First Dose (12+)'] + list(round(sa_vacc.loc[sa_vacc['Type'] == 'First Dose (12+)'].iloc[:,1:]*1522200/100).iloc[0])\n",
    "sa_vacc.loc[sa_vacc['Type'] == 'Second Dose (12+)'] = ['Second Dose (12+)'] + list(round(sa_vacc.loc[sa_vacc['Type'] == 'Second Dose (12+)'].iloc[:,1:]*1522200/100).iloc[0])\n",
    "sa_vacc.loc[sa_vacc['Type'] == 'Third Dose (16+)'] = ['Third Dose (16+)'] + list(round(sa_vacc.loc[sa_vacc['Type'] == 'Third Dose (16+)'].iloc[:,1:]*1433700/100).iloc[0])\n",
    "\n",
    "first = list(sa_vacc.loc[sa_vacc['Type'] == 'First Dose (12+)'].iloc[0])[1:]\n",
    "first_change = []\n",
    "for f in range(len(first)-1):\n",
    "    first_change.append(first[f+1] - first[f])\n",
    "\n",
    "second = list(sa_vacc.loc[sa_vacc['Type'] == 'Second Dose (12+)'].iloc[0])[1:]\n",
    "second_change = []\n",
    "for f in range(len(second)-1):\n",
    "    second_change.append(second[f+1] - second[f])\n",
    "\n",
    "third = list(sa_vacc.loc[sa_vacc['Type'] == 'Third Dose (16+)'].iloc[0])[1:]\n",
    "third_change = []\n",
    "for f in range(len(third)-1):\n",
    "    third_change.append(third[f+1] - third[f])\n",
    "\n",
    "uptakes = [first_change, second_change, third_change]\n"
   ]
  },
  {
   "cell_type": "code",
   "execution_count": 17,
   "id": "25468f92",
   "metadata": {},
   "outputs": [
    {
     "data": {
      "text/plain": [
       "[<matplotlib.lines.Line2D at 0x7fe65863c310>]"
      ]
     },
     "execution_count": 17,
     "metadata": {},
     "output_type": "execute_result"
    },
    {
     "data": {
      "image/png": "[encoded data removed]",
      "text/plain": [
       "<Figure size 432x288 with 1 Axes>"
      ]
     },
     "metadata": {
      "needs_background": "light"
     },
     "output_type": "display_data"
    }
   ],
   "source": [
    "plt.plot(first)\n",
    "plt.plot(second)\n",
    "plt.plot(third)"
   ]
  },
  {
   "cell_type": "code",
   "execution_count": 16,
   "id": "ad74246b",
   "metadata": {},
   "outputs": [
    {
     "name": "stdout",
     "output_type": "stream",
     "text": [
      "First to second 61.57142857142857 Days\n",
      "Second to third nan Days\n"
     ]
    },
    {
     "name": "stderr",
     "output_type": "stream",
     "text": [
      "/opt/anaconda3/lib/python3.7/site-packages/numpy/core/fromnumeric.py:3441: RuntimeWarning: Mean of empty slice.\n",
      "  out=out, **kwargs)\n",
      "/opt/anaconda3/lib/python3.7/site-packages/numpy/core/_methods.py:189: RuntimeWarning: invalid value encountered in double_scalars\n",
      "  ret = ret.dtype.type(ret / rcount)\n"
     ]
    }
   ],
   "source": [
    "diffs = []\n",
    "for i in range(len(first)):\n",
    "    for j in range(len(second)):\n",
    "        if first[i] < second[j]:\n",
    "            diffs.append(j-i)\n",
    "            break\n",
    "print('First to second', np.mean(diffs), 'Days')\n",
    "\n",
    "diffs = []\n",
    "for i in range(len(second)):\n",
    "    for j in range(len(third)):\n",
    "        if second[i] < third[j]:\n",
    "            diffs.append(j-i)\n",
    "            break\n",
    "print('Second to third', np.mean(diffs), 'Days')"
   ]
  },
  {
   "cell_type": "markdown",
   "id": "c37e5f33",
   "metadata": {},
   "source": [
    "## Calculating Efficacy\n",
    "https://www.nejm.org/doi/full/10.1056/NEJMoa2119451"
   ]
  },
  {
   "cell_type": "markdown",
   "id": "eaed50b3",
   "metadata": {},
   "source": [
    "Australia's vaccine agreements: https://www.health.gov.au/initiatives-and-programs/covid-19-vaccines/about-rollout/vaccine-agreements\n",
    "\n",
    "TOTAL (excluding Nova) = 190 million\n",
    "\n",
    "AstraZeneca = 54 million (28.4%)\n",
    "\n",
    "Pfizer = 126 million doses (66.3%)\n",
    "\n",
    "Moderna = 10 million (15 mil more available in first half of 2022) (5.3%)\n",
    "\n",
    "Novavax (not in paper)= 51 million doses will be available in early 2022- numbers appear to be insignificant compared to the other big 3"
   ]
  },
  {
   "cell_type": "code",
   "execution_count": 1,
   "id": "f9e7b1d8",
   "metadata": {},
   "outputs": [],
   "source": [
    "astra_prop = 0.284\n",
    "pfize_prop = 0.663\n",
    "moder_prop = 0.053"
   ]
  },
  {
   "cell_type": "code",
   "execution_count": 2,
   "id": "e844cebe",
   "metadata": {},
   "outputs": [
    {
     "name": "stdout",
     "output_type": "stream",
     "text": [
      "0.177 0.33678474842100803 0.37017704597326373\n"
     ]
    }
   ],
   "source": [
    "# Dose 1\n",
    "astra_eff = 0.177\n",
    "pfize_eff = 0.315*19043/(19043+4548)+0.428*4548/(19043+4548)\n",
    "moder_eff = 0.319*2086/(2086+981) + 0.479*981/(2086+981)\n",
    "\n",
    "print(astra_eff,pfize_eff,moder_eff)"
   ]
  },
  {
   "cell_type": "code",
   "execution_count": 3,
   "id": "9c77156a",
   "metadata": {},
   "outputs": [
    {
     "name": "stdout",
     "output_type": "stream",
     "text": [
      "Dose 1 Efficacy: 0.2931756716397113\n"
     ]
    }
   ],
   "source": [
    "dose1_eff = astra_eff*astra_prop+pfize_eff*pfize_prop + moder_eff*moder_prop\n",
    "print('Dose 1 Efficacy:',dose1_eff)"
   ]
  },
  {
   "cell_type": "code",
   "execution_count": 4,
   "id": "8a68295b",
   "metadata": {},
   "outputs": [
    {
     "name": "stdout",
     "output_type": "stream",
     "text": [
      "-0.005632965695956517 0.17260493791758666 0.2540579217838167\n"
     ]
    }
   ],
   "source": [
    "#Dose 2\n",
    "\n",
    "ast_wek = [236,505,767,2974,23122,98970]\n",
    "ast_vac = [0.489,0.337,0.286,0.178,0.04,-0.027]\n",
    "ast_pop = sum(ast_wek)\n",
    "\n",
    "pfi_wek = [3369,8768,25178,82221,55719,33983]\n",
    "pfi_vac = [0.655,0.487,0.301,0.154,0.115,0.088]\n",
    "pfi_pop = sum(pfi_wek)\n",
    "\n",
    "mod_wek = [236,791,3828,11269,6107,731]\n",
    "mod_vac = [0.751,0.528,0.356,0.253,0.15,0.149]\n",
    "mod_pop = sum(mod_wek)\n",
    "\n",
    "astra_eff = sum([ast_wek[i]*ast_vac[i]/ast_pop for i in range(len(ast_wek))])\n",
    "pfize_eff = sum([pfi_wek[i]*pfi_vac[i]/pfi_pop for i in range(len(pfi_wek))])\n",
    "moder_eff = sum([mod_wek[i]*mod_vac[i]/mod_pop for i in range(len(mod_wek))])\n",
    "\n",
    "print(astra_eff,pfize_eff,moder_eff)"
   ]
  },
  {
   "cell_type": "code",
   "execution_count": 6,
   "id": "45aafe2d",
   "metadata": {},
   "outputs": [
    {
     "name": "stdout",
     "output_type": "stream",
     "text": [
      "Dose 2 Efficacy: 0.12630238143625058\n"
     ]
    }
   ],
   "source": [
    "dose2_eff = astra_eff*astra_prop+pfize_eff*pfize_prop + moder_eff*moder_prop\n",
    "print('Dose 2 Efficacy:',dose2_eff)\n",
    "\n",
    "# Whether we choose to set Az vaccine efficacy to 0 overall or not does not make much of an overall impact- 12.8%\n",
    "# becomes 12.6% when we have the negatives in there"
   ]
  },
  {
   "cell_type": "code",
   "execution_count": 59,
   "id": "e8649edc",
   "metadata": {},
   "outputs": [
    {
     "name": "stdout",
     "output_type": "stream",
     "text": [
      "0.5503915007122326 0.5668949199840793 0.6459463555021636\n"
     ]
    }
   ],
   "source": [
    "# Dose 3\n",
    "\n",
    "# 1&2_3rd_boost_(ppl in each week compartment, eff icacy of that compartment)\n",
    "\n",
    "ast_pfi_boost_ppl = [17921,49169,55864,15570]\n",
    "ast_pfi_boost_eff = [0.588,0.624,0.529,0.396]\n",
    "ast_pfi_boost_ttl = sum(ast_pfi_boost_ppl)\n",
    "\n",
    "ast_mod_boost_ppl = [8391,23165,8736]\n",
    "ast_mod_boost_eff = [0.68,0.701,0.609]\n",
    "ast_mod_boost_ttl = sum(ast_mod_boost_ppl)\n",
    "\n",
    "ast_ast_boost_ppl = [41,131,164]\n",
    "ast_ast_boost_eff = [0.577,0.556,0.467]\n",
    "ast_ast_boost_ttl = sum(ast_ast_boost_ppl)\n",
    "\n",
    "pfi_pfi_boost_ppl = [14615,21886,42854,41569]\n",
    "pfi_pfi_boost_eff = [0.669,0.672,0.55,0.457]\n",
    "pfi_pfi_boost_ttl = sum(pfi_pfi_boost_ppl)\n",
    "\n",
    "pfi_mod_boost_ppl = [5307,7288,2807]\n",
    "pfi_mod_boost_eff = [0.74,0.739,0.644]\n",
    "pfi_mod_boost_ttl = sum(pfi_mod_boost_ppl)\n",
    "\n",
    "mod_pfi_boost_ppl = [1393,1339]\n",
    "mod_pfi_boost_eff = [0.643,0.649]\n",
    "mod_pfi_boost_ttl = sum(mod_pfi_boost_ppl)\n",
    "\n",
    "mod_mod_boost_ppl = [1136,1149]\n",
    "mod_mod_boost_eff = [0.643,0.649]\n",
    "mod_mod_boost_ttl = sum(mod_mod_boost_ppl)\n",
    "\n",
    "ast_pfi_boost_overall = sum([ast_pfi_boost_ppl[i]*ast_pfi_boost_eff[i]/ast_pfi_boost_ttl for i in \n",
    "                             range(len(ast_pfi_boost_ppl))]) \n",
    "ast_mod_boost_overall = sum([ast_mod_boost_ppl[i]*ast_mod_boost_eff[i]/ast_mod_boost_ttl for i in \n",
    "                             range(len(ast_mod_boost_ppl))])\n",
    "ast_ast_boost_overall = sum([ast_ast_boost_ppl[i]*ast_ast_boost_eff[i]/ast_ast_boost_ttl for i in \n",
    "                             range(len(ast_ast_boost_ppl))])\n",
    "pfi_pfi_boost_overall = sum([pfi_pfi_boost_ppl[i]*pfi_pfi_boost_eff[i]/pfi_pfi_boost_ttl for i in \n",
    "                             range(len(pfi_pfi_boost_ppl))])\n",
    "pfi_mod_boost_overall = sum([pfi_mod_boost_ppl[i]*pfi_mod_boost_eff[i]/pfi_mod_boost_ttl for i in \n",
    "                             range(len(pfi_mod_boost_ppl))])\n",
    "mod_pfi_boost_overall = sum([mod_pfi_boost_ppl[i]*mod_pfi_boost_eff[i]/mod_pfi_boost_ttl for i in \n",
    "                             range(len(mod_pfi_boost_ppl))])\n",
    "mod_mod_boost_overall = sum([mod_mod_boost_ppl[i]*mod_mod_boost_eff[i]/mod_mod_boost_ttl for i in \n",
    "                             range(len(mod_mod_boost_ppl))])\n",
    "\n",
    "\n",
    "# ast_booster = ast_ast_boost_overall\n",
    "# pfi_booster = pfi_pfi_boost_overall*pfi_pfi_boost_ttl/(pfi_pfi_boost_ttl+mod_pfi_boost_ttl+ast_pfi_boost_ttl) + mod_pfi_boost_overall*mod_pfi_boost_ttl/(pfi_pfi_boost_ttl+mod_pfi_boost_ttl+ast_pfi_boost_ttl) + ast_pfi_boost_overall*ast_pfi_boost_ttl/(pfi_pfi_boost_ttl+mod_pfi_boost_ttl+ast_pfi_boost_ttl)\n",
    "# mod_booster = pfi_mod_boost_overall*pfi_mod_boost_ttl/(pfi_mod_boost_ttl+mod_mod_boost_ttl+ast_mod_boost_ttl) + mod_mod_boost_overall*mod_mod_boost_ttl/(pfi_mod_boost_ttl+mod_mod_boost_ttl+ast_mod_boost_ttl) + ast_mod_boost_overall*ast_mod_boost_ttl/(pfi_mod_boost_ttl+mod_mod_boost_ttl+ast_mod_boost_ttl)\n",
    "\n",
    "ast_booster = pfize_prop*ast_pfi_boost_overall + moder_prop*ast_mod_boost_overall + astra_prop*ast_ast_boost_overall\n",
    "pfi_booster = pfize_prop/(pfize_prop+moder_prop)*pfi_pfi_boost_overall + moder_prop/(pfize_prop+moder_prop)*pfi_mod_boost_overall\n",
    "mod_booster = pfize_prop/(pfize_prop+moder_prop)*mod_pfi_boost_overall + moder_prop/(pfize_prop+moder_prop)*mod_mod_boost_overall\n",
    "\n",
    "\n",
    "print(ast_booster,pfi_booster, mod_booster)"
   ]
  },
  {
   "cell_type": "code",
   "execution_count": 60,
   "id": "f16c0888",
   "metadata": {},
   "outputs": [
    {
     "name": "stdout",
     "output_type": "stream",
     "text": [
      "Dose 3 Efficacy: 0.5663976749933334\n"
     ]
    }
   ],
   "source": [
    "dose3_eff = ast_booster*astra_prop+pfi_booster*pfize_prop + mod_booster*moder_prop\n",
    "print('Dose 3 Efficacy:',dose3_eff)"
   ]
  },
  {
   "cell_type": "code",
   "execution_count": null,
   "id": "6c1d6f8b",
   "metadata": {},
   "outputs": [],
   "source": []
  }
 ],
 "metadata": {
  "kernelspec": {
   "display_name": "Python 3 (ipykernel)",
   "language": "python",
   "name": "python3"
  },
  "language_info": {
   "codemirror_mode": {
    "name": "ipython",
    "version": 3
   },
   "file_extension": ".py",
   "mimetype": "text/x-python",
   "name": "python",
   "nbconvert_exporter": "python",
   "pygments_lexer": "ipython3",
   "version": "3.7.4"
  }
 },
 "nbformat": 4,
 "nbformat_minor": 5
}
